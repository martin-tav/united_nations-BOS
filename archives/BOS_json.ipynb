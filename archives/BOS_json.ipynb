{
 "cells": [
  {
   "cell_type": "code",
   "execution_count": 1,
   "id": "f17e9469",
   "metadata": {
    "id": "f17e9469"
   },
   "outputs": [],
   "source": [
    "import pandas as pd\n",
    "import os"
   ]
  },
  {
   "cell_type": "code",
   "execution_count": 3,
   "id": "36944839",
   "metadata": {
    "colab": {
     "base_uri": "https://localhost:8080/"
    },
    "executionInfo": {
     "elapsed": 220,
     "status": "ok",
     "timestamp": 1700131048858,
     "user": {
      "displayName": "",
      "userId": ""
     },
     "user_tz": -60
    },
    "id": "36944839",
    "outputId": "e1960600-702a-4d9f-9c07-ce27823dc05b"
   },
   "outputs": [
    {
     "name": "stdout",
     "output_type": "stream",
     "text": [
      "D:\\IONOS HiDrive\\Perso_MT\\Repos\\UN\\BOS\n"
     ]
    }
   ],
   "source": [
    "path = os.getcwd()\n",
    "path = 'D:\\\\IONOS HiDrive\\\\Perso_MT\\\\Repos\\\\UN\\\\BOS'\n",
    "# All files are pulled from github repository\n",
    "# path = 'https://raw.githubusercontent.com/martin-tav/united_nations-GSS/main/'\n",
    "print(path)"
   ]
  },
  {
   "cell_type": "markdown",
   "id": "0913cfc6",
   "metadata": {
    "id": "0913cfc6"
   },
   "source": [
    "# 1. Data extraction and preprocessing"
   ]
  },
  {
   "cell_type": "markdown",
   "id": "af6eda72",
   "metadata": {
    "id": "af6eda72"
   },
   "source": [
    "# 2. Files paths"
   ]
  },
  {
   "cell_type": "code",
   "execution_count": 63,
   "id": "5895e7ba",
   "metadata": {
    "id": "5895e7ba"
   },
   "outputs": [],
   "source": [
    "folder = os.path.join(path, \"data\")\n",
    "folder_in = os.path.join(folder, \"in\")\n",
    "folder_out = os.path.join(folder, \"out\")\n",
    "\n",
    "#bos_in = 'bos_migration_in.csv'\n",
    "bos_in = 'bos_migration_in.csv'\n",
    "bos_out = 'bos_migration_out.json'\n"
   ]
  },
  {
   "cell_type": "code",
   "execution_count": 64,
   "id": "0153b678",
   "metadata": {},
   "outputs": [
    {
     "data": {
      "text/plain": [
       "Index(['COUNTRY', 'ISO', 'startDate', 'endDate', 'description'], dtype='object')"
      ]
     },
     "execution_count": 64,
     "metadata": {},
     "output_type": "execute_result"
    }
   ],
   "source": [
    "df_bos.columns"
   ]
  },
  {
   "cell_type": "markdown",
   "id": "5a32a4d5",
   "metadata": {
    "id": "5a32a4d5"
   },
   "source": [
    "# 3. Loading data"
   ]
  },
  {
   "cell_type": "code",
   "execution_count": 69,
   "id": "4d6d2c66",
   "metadata": {
    "id": "4d6d2c66"
   },
   "outputs": [],
   "source": [
    "df_bos = pd.read_csv(os.path.join(folder_in,bos_in),sep=',')\n",
    "sample= False\n",
    "if sample:\n",
    "    cols= ['COUNTRY', 'ISO', 'startDate', 'endDate']\n",
    "    df = df_bos[cols].head()\n",
    "else:\n",
    "    df = df_bos.copy()"
   ]
  },
  {
   "cell_type": "markdown",
   "id": "b957fa07",
   "metadata": {
    "id": "b957fa07"
   },
   "source": [
    "# 4. Process and transform"
   ]
  },
  {
   "cell_type": "code",
   "execution_count": 70,
   "id": "f6a16a74",
   "metadata": {},
   "outputs": [],
   "source": [
    "from json import loads, dumps\n",
    "\n",
    "results = df.to_json(orient=\"records\")\n",
    "parseds = loads(results)\n",
    "df_out = pd.DataFrame(columns=['kick-off'])\n"
   ]
  },
  {
   "cell_type": "code",
   "execution_count": 71,
   "id": "20c01d91",
   "metadata": {},
   "outputs": [
    {
     "name": "stdout",
     "output_type": "stream",
     "text": [
      "                                              kick-off\n",
      "0    {'COUNTRY': 'Afghanistan', 'ISO': 'AFG', 'star...\n",
      "1    {'COUNTRY': 'Angola', 'ISO': 'AGO', 'startDate...\n",
      "2    {'COUNTRY': 'Albania', 'ISO': 'ALB', 'startDat...\n",
      "3    {'COUNTRY': 'United Arab Emirates', 'ISO': 'AR...\n",
      "4    {'COUNTRY': 'Argentina', 'ISO': 'ARG', 'startD...\n",
      "..                                                 ...\n",
      "127  {'COUNTRY': 'Samoa', 'ISO': 'WSM', 'startDate'...\n",
      "128  {'COUNTRY': 'Yemen', 'ISO': 'YEM', 'startDate'...\n",
      "129  {'COUNTRY': 'South Africa', 'ISO': 'ZFA', 'sta...\n",
      "130  {'COUNTRY': 'Zambia', 'ISO': 'ZMB', 'startDate...\n",
      "131  {'COUNTRY': 'Zimbabwe', 'ISO': 'ZWE', 'startDa...\n",
      "\n",
      "[132 rows x 1 columns]\n"
     ]
    },
    {
     "name": "stderr",
     "output_type": "stream",
     "text": [
      "C:\\Users\\marty\\AppData\\Local\\Temp\\ipykernel_32120\\4108023383.py:2: FutureWarning: The frame.append method is deprecated and will be removed from pandas in a future version. Use pandas.concat instead.\n",
      "  df_out = df_out.append({'kick-off':parsed}, ignore_index=True)\n",
      "C:\\Users\\marty\\AppData\\Local\\Temp\\ipykernel_32120\\4108023383.py:2: FutureWarning: The frame.append method is deprecated and will be removed from pandas in a future version. Use pandas.concat instead.\n",
      "  df_out = df_out.append({'kick-off':parsed}, ignore_index=True)\n",
      "C:\\Users\\marty\\AppData\\Local\\Temp\\ipykernel_32120\\4108023383.py:2: FutureWarning: The frame.append method is deprecated and will be removed from pandas in a future version. Use pandas.concat instead.\n",
      "  df_out = df_out.append({'kick-off':parsed}, ignore_index=True)\n",
      "C:\\Users\\marty\\AppData\\Local\\Temp\\ipykernel_32120\\4108023383.py:2: FutureWarning: The frame.append method is deprecated and will be removed from pandas in a future version. Use pandas.concat instead.\n",
      "  df_out = df_out.append({'kick-off':parsed}, ignore_index=True)\n",
      "C:\\Users\\marty\\AppData\\Local\\Temp\\ipykernel_32120\\4108023383.py:2: FutureWarning: The frame.append method is deprecated and will be removed from pandas in a future version. Use pandas.concat instead.\n",
      "  df_out = df_out.append({'kick-off':parsed}, ignore_index=True)\n",
      "C:\\Users\\marty\\AppData\\Local\\Temp\\ipykernel_32120\\4108023383.py:2: FutureWarning: The frame.append method is deprecated and will be removed from pandas in a future version. Use pandas.concat instead.\n",
      "  df_out = df_out.append({'kick-off':parsed}, ignore_index=True)\n",
      "C:\\Users\\marty\\AppData\\Local\\Temp\\ipykernel_32120\\4108023383.py:2: FutureWarning: The frame.append method is deprecated and will be removed from pandas in a future version. Use pandas.concat instead.\n",
      "  df_out = df_out.append({'kick-off':parsed}, ignore_index=True)\n",
      "C:\\Users\\marty\\AppData\\Local\\Temp\\ipykernel_32120\\4108023383.py:2: FutureWarning: The frame.append method is deprecated and will be removed from pandas in a future version. Use pandas.concat instead.\n",
      "  df_out = df_out.append({'kick-off':parsed}, ignore_index=True)\n",
      "C:\\Users\\marty\\AppData\\Local\\Temp\\ipykernel_32120\\4108023383.py:2: FutureWarning: The frame.append method is deprecated and will be removed from pandas in a future version. Use pandas.concat instead.\n",
      "  df_out = df_out.append({'kick-off':parsed}, ignore_index=True)\n",
      "C:\\Users\\marty\\AppData\\Local\\Temp\\ipykernel_32120\\4108023383.py:2: FutureWarning: The frame.append method is deprecated and will be removed from pandas in a future version. Use pandas.concat instead.\n",
      "  df_out = df_out.append({'kick-off':parsed}, ignore_index=True)\n",
      "C:\\Users\\marty\\AppData\\Local\\Temp\\ipykernel_32120\\4108023383.py:2: FutureWarning: The frame.append method is deprecated and will be removed from pandas in a future version. Use pandas.concat instead.\n",
      "  df_out = df_out.append({'kick-off':parsed}, ignore_index=True)\n",
      "C:\\Users\\marty\\AppData\\Local\\Temp\\ipykernel_32120\\4108023383.py:2: FutureWarning: The frame.append method is deprecated and will be removed from pandas in a future version. Use pandas.concat instead.\n",
      "  df_out = df_out.append({'kick-off':parsed}, ignore_index=True)\n",
      "C:\\Users\\marty\\AppData\\Local\\Temp\\ipykernel_32120\\4108023383.py:2: FutureWarning: The frame.append method is deprecated and will be removed from pandas in a future version. Use pandas.concat instead.\n",
      "  df_out = df_out.append({'kick-off':parsed}, ignore_index=True)\n",
      "C:\\Users\\marty\\AppData\\Local\\Temp\\ipykernel_32120\\4108023383.py:2: FutureWarning: The frame.append method is deprecated and will be removed from pandas in a future version. Use pandas.concat instead.\n",
      "  df_out = df_out.append({'kick-off':parsed}, ignore_index=True)\n",
      "C:\\Users\\marty\\AppData\\Local\\Temp\\ipykernel_32120\\4108023383.py:2: FutureWarning: The frame.append method is deprecated and will be removed from pandas in a future version. Use pandas.concat instead.\n",
      "  df_out = df_out.append({'kick-off':parsed}, ignore_index=True)\n",
      "C:\\Users\\marty\\AppData\\Local\\Temp\\ipykernel_32120\\4108023383.py:2: FutureWarning: The frame.append method is deprecated and will be removed from pandas in a future version. Use pandas.concat instead.\n",
      "  df_out = df_out.append({'kick-off':parsed}, ignore_index=True)\n",
      "C:\\Users\\marty\\AppData\\Local\\Temp\\ipykernel_32120\\4108023383.py:2: FutureWarning: The frame.append method is deprecated and will be removed from pandas in a future version. Use pandas.concat instead.\n",
      "  df_out = df_out.append({'kick-off':parsed}, ignore_index=True)\n",
      "C:\\Users\\marty\\AppData\\Local\\Temp\\ipykernel_32120\\4108023383.py:2: FutureWarning: The frame.append method is deprecated and will be removed from pandas in a future version. Use pandas.concat instead.\n",
      "  df_out = df_out.append({'kick-off':parsed}, ignore_index=True)\n",
      "C:\\Users\\marty\\AppData\\Local\\Temp\\ipykernel_32120\\4108023383.py:2: FutureWarning: The frame.append method is deprecated and will be removed from pandas in a future version. Use pandas.concat instead.\n",
      "  df_out = df_out.append({'kick-off':parsed}, ignore_index=True)\n",
      "C:\\Users\\marty\\AppData\\Local\\Temp\\ipykernel_32120\\4108023383.py:2: FutureWarning: The frame.append method is deprecated and will be removed from pandas in a future version. Use pandas.concat instead.\n",
      "  df_out = df_out.append({'kick-off':parsed}, ignore_index=True)\n",
      "C:\\Users\\marty\\AppData\\Local\\Temp\\ipykernel_32120\\4108023383.py:2: FutureWarning: The frame.append method is deprecated and will be removed from pandas in a future version. Use pandas.concat instead.\n",
      "  df_out = df_out.append({'kick-off':parsed}, ignore_index=True)\n",
      "C:\\Users\\marty\\AppData\\Local\\Temp\\ipykernel_32120\\4108023383.py:2: FutureWarning: The frame.append method is deprecated and will be removed from pandas in a future version. Use pandas.concat instead.\n",
      "  df_out = df_out.append({'kick-off':parsed}, ignore_index=True)\n",
      "C:\\Users\\marty\\AppData\\Local\\Temp\\ipykernel_32120\\4108023383.py:2: FutureWarning: The frame.append method is deprecated and will be removed from pandas in a future version. Use pandas.concat instead.\n",
      "  df_out = df_out.append({'kick-off':parsed}, ignore_index=True)\n",
      "C:\\Users\\marty\\AppData\\Local\\Temp\\ipykernel_32120\\4108023383.py:2: FutureWarning: The frame.append method is deprecated and will be removed from pandas in a future version. Use pandas.concat instead.\n",
      "  df_out = df_out.append({'kick-off':parsed}, ignore_index=True)\n",
      "C:\\Users\\marty\\AppData\\Local\\Temp\\ipykernel_32120\\4108023383.py:2: FutureWarning: The frame.append method is deprecated and will be removed from pandas in a future version. Use pandas.concat instead.\n",
      "  df_out = df_out.append({'kick-off':parsed}, ignore_index=True)\n",
      "C:\\Users\\marty\\AppData\\Local\\Temp\\ipykernel_32120\\4108023383.py:2: FutureWarning: The frame.append method is deprecated and will be removed from pandas in a future version. Use pandas.concat instead.\n",
      "  df_out = df_out.append({'kick-off':parsed}, ignore_index=True)\n",
      "C:\\Users\\marty\\AppData\\Local\\Temp\\ipykernel_32120\\4108023383.py:2: FutureWarning: The frame.append method is deprecated and will be removed from pandas in a future version. Use pandas.concat instead.\n",
      "  df_out = df_out.append({'kick-off':parsed}, ignore_index=True)\n",
      "C:\\Users\\marty\\AppData\\Local\\Temp\\ipykernel_32120\\4108023383.py:2: FutureWarning: The frame.append method is deprecated and will be removed from pandas in a future version. Use pandas.concat instead.\n",
      "  df_out = df_out.append({'kick-off':parsed}, ignore_index=True)\n",
      "C:\\Users\\marty\\AppData\\Local\\Temp\\ipykernel_32120\\4108023383.py:2: FutureWarning: The frame.append method is deprecated and will be removed from pandas in a future version. Use pandas.concat instead.\n",
      "  df_out = df_out.append({'kick-off':parsed}, ignore_index=True)\n",
      "C:\\Users\\marty\\AppData\\Local\\Temp\\ipykernel_32120\\4108023383.py:2: FutureWarning: The frame.append method is deprecated and will be removed from pandas in a future version. Use pandas.concat instead.\n",
      "  df_out = df_out.append({'kick-off':parsed}, ignore_index=True)\n",
      "C:\\Users\\marty\\AppData\\Local\\Temp\\ipykernel_32120\\4108023383.py:2: FutureWarning: The frame.append method is deprecated and will be removed from pandas in a future version. Use pandas.concat instead.\n",
      "  df_out = df_out.append({'kick-off':parsed}, ignore_index=True)\n",
      "C:\\Users\\marty\\AppData\\Local\\Temp\\ipykernel_32120\\4108023383.py:2: FutureWarning: The frame.append method is deprecated and will be removed from pandas in a future version. Use pandas.concat instead.\n",
      "  df_out = df_out.append({'kick-off':parsed}, ignore_index=True)\n",
      "C:\\Users\\marty\\AppData\\Local\\Temp\\ipykernel_32120\\4108023383.py:2: FutureWarning: The frame.append method is deprecated and will be removed from pandas in a future version. Use pandas.concat instead.\n",
      "  df_out = df_out.append({'kick-off':parsed}, ignore_index=True)\n",
      "C:\\Users\\marty\\AppData\\Local\\Temp\\ipykernel_32120\\4108023383.py:2: FutureWarning: The frame.append method is deprecated and will be removed from pandas in a future version. Use pandas.concat instead.\n",
      "  df_out = df_out.append({'kick-off':parsed}, ignore_index=True)\n",
      "C:\\Users\\marty\\AppData\\Local\\Temp\\ipykernel_32120\\4108023383.py:2: FutureWarning: The frame.append method is deprecated and will be removed from pandas in a future version. Use pandas.concat instead.\n",
      "  df_out = df_out.append({'kick-off':parsed}, ignore_index=True)\n",
      "C:\\Users\\marty\\AppData\\Local\\Temp\\ipykernel_32120\\4108023383.py:2: FutureWarning: The frame.append method is deprecated and will be removed from pandas in a future version. Use pandas.concat instead.\n",
      "  df_out = df_out.append({'kick-off':parsed}, ignore_index=True)\n",
      "C:\\Users\\marty\\AppData\\Local\\Temp\\ipykernel_32120\\4108023383.py:2: FutureWarning: The frame.append method is deprecated and will be removed from pandas in a future version. Use pandas.concat instead.\n",
      "  df_out = df_out.append({'kick-off':parsed}, ignore_index=True)\n",
      "C:\\Users\\marty\\AppData\\Local\\Temp\\ipykernel_32120\\4108023383.py:2: FutureWarning: The frame.append method is deprecated and will be removed from pandas in a future version. Use pandas.concat instead.\n",
      "  df_out = df_out.append({'kick-off':parsed}, ignore_index=True)\n",
      "C:\\Users\\marty\\AppData\\Local\\Temp\\ipykernel_32120\\4108023383.py:2: FutureWarning: The frame.append method is deprecated and will be removed from pandas in a future version. Use pandas.concat instead.\n",
      "  df_out = df_out.append({'kick-off':parsed}, ignore_index=True)\n",
      "C:\\Users\\marty\\AppData\\Local\\Temp\\ipykernel_32120\\4108023383.py:2: FutureWarning: The frame.append method is deprecated and will be removed from pandas in a future version. Use pandas.concat instead.\n",
      "  df_out = df_out.append({'kick-off':parsed}, ignore_index=True)\n",
      "C:\\Users\\marty\\AppData\\Local\\Temp\\ipykernel_32120\\4108023383.py:2: FutureWarning: The frame.append method is deprecated and will be removed from pandas in a future version. Use pandas.concat instead.\n",
      "  df_out = df_out.append({'kick-off':parsed}, ignore_index=True)\n",
      "C:\\Users\\marty\\AppData\\Local\\Temp\\ipykernel_32120\\4108023383.py:2: FutureWarning: The frame.append method is deprecated and will be removed from pandas in a future version. Use pandas.concat instead.\n",
      "  df_out = df_out.append({'kick-off':parsed}, ignore_index=True)\n",
      "C:\\Users\\marty\\AppData\\Local\\Temp\\ipykernel_32120\\4108023383.py:2: FutureWarning: The frame.append method is deprecated and will be removed from pandas in a future version. Use pandas.concat instead.\n",
      "  df_out = df_out.append({'kick-off':parsed}, ignore_index=True)\n",
      "C:\\Users\\marty\\AppData\\Local\\Temp\\ipykernel_32120\\4108023383.py:2: FutureWarning: The frame.append method is deprecated and will be removed from pandas in a future version. Use pandas.concat instead.\n",
      "  df_out = df_out.append({'kick-off':parsed}, ignore_index=True)\n",
      "C:\\Users\\marty\\AppData\\Local\\Temp\\ipykernel_32120\\4108023383.py:2: FutureWarning: The frame.append method is deprecated and will be removed from pandas in a future version. Use pandas.concat instead.\n",
      "  df_out = df_out.append({'kick-off':parsed}, ignore_index=True)\n",
      "C:\\Users\\marty\\AppData\\Local\\Temp\\ipykernel_32120\\4108023383.py:2: FutureWarning: The frame.append method is deprecated and will be removed from pandas in a future version. Use pandas.concat instead.\n",
      "  df_out = df_out.append({'kick-off':parsed}, ignore_index=True)\n",
      "C:\\Users\\marty\\AppData\\Local\\Temp\\ipykernel_32120\\4108023383.py:2: FutureWarning: The frame.append method is deprecated and will be removed from pandas in a future version. Use pandas.concat instead.\n",
      "  df_out = df_out.append({'kick-off':parsed}, ignore_index=True)\n",
      "C:\\Users\\marty\\AppData\\Local\\Temp\\ipykernel_32120\\4108023383.py:2: FutureWarning: The frame.append method is deprecated and will be removed from pandas in a future version. Use pandas.concat instead.\n",
      "  df_out = df_out.append({'kick-off':parsed}, ignore_index=True)\n",
      "C:\\Users\\marty\\AppData\\Local\\Temp\\ipykernel_32120\\4108023383.py:2: FutureWarning: The frame.append method is deprecated and will be removed from pandas in a future version. Use pandas.concat instead.\n",
      "  df_out = df_out.append({'kick-off':parsed}, ignore_index=True)\n",
      "C:\\Users\\marty\\AppData\\Local\\Temp\\ipykernel_32120\\4108023383.py:2: FutureWarning: The frame.append method is deprecated and will be removed from pandas in a future version. Use pandas.concat instead.\n",
      "  df_out = df_out.append({'kick-off':parsed}, ignore_index=True)\n",
      "C:\\Users\\marty\\AppData\\Local\\Temp\\ipykernel_32120\\4108023383.py:2: FutureWarning: The frame.append method is deprecated and will be removed from pandas in a future version. Use pandas.concat instead.\n",
      "  df_out = df_out.append({'kick-off':parsed}, ignore_index=True)\n",
      "C:\\Users\\marty\\AppData\\Local\\Temp\\ipykernel_32120\\4108023383.py:2: FutureWarning: The frame.append method is deprecated and will be removed from pandas in a future version. Use pandas.concat instead.\n",
      "  df_out = df_out.append({'kick-off':parsed}, ignore_index=True)\n",
      "C:\\Users\\marty\\AppData\\Local\\Temp\\ipykernel_32120\\4108023383.py:2: FutureWarning: The frame.append method is deprecated and will be removed from pandas in a future version. Use pandas.concat instead.\n",
      "  df_out = df_out.append({'kick-off':parsed}, ignore_index=True)\n",
      "C:\\Users\\marty\\AppData\\Local\\Temp\\ipykernel_32120\\4108023383.py:2: FutureWarning: The frame.append method is deprecated and will be removed from pandas in a future version. Use pandas.concat instead.\n",
      "  df_out = df_out.append({'kick-off':parsed}, ignore_index=True)\n",
      "C:\\Users\\marty\\AppData\\Local\\Temp\\ipykernel_32120\\4108023383.py:2: FutureWarning: The frame.append method is deprecated and will be removed from pandas in a future version. Use pandas.concat instead.\n",
      "  df_out = df_out.append({'kick-off':parsed}, ignore_index=True)\n",
      "C:\\Users\\marty\\AppData\\Local\\Temp\\ipykernel_32120\\4108023383.py:2: FutureWarning: The frame.append method is deprecated and will be removed from pandas in a future version. Use pandas.concat instead.\n",
      "  df_out = df_out.append({'kick-off':parsed}, ignore_index=True)\n",
      "C:\\Users\\marty\\AppData\\Local\\Temp\\ipykernel_32120\\4108023383.py:2: FutureWarning: The frame.append method is deprecated and will be removed from pandas in a future version. Use pandas.concat instead.\n",
      "  df_out = df_out.append({'kick-off':parsed}, ignore_index=True)\n",
      "C:\\Users\\marty\\AppData\\Local\\Temp\\ipykernel_32120\\4108023383.py:2: FutureWarning: The frame.append method is deprecated and will be removed from pandas in a future version. Use pandas.concat instead.\n",
      "  df_out = df_out.append({'kick-off':parsed}, ignore_index=True)\n",
      "C:\\Users\\marty\\AppData\\Local\\Temp\\ipykernel_32120\\4108023383.py:2: FutureWarning: The frame.append method is deprecated and will be removed from pandas in a future version. Use pandas.concat instead.\n",
      "  df_out = df_out.append({'kick-off':parsed}, ignore_index=True)\n",
      "C:\\Users\\marty\\AppData\\Local\\Temp\\ipykernel_32120\\4108023383.py:2: FutureWarning: The frame.append method is deprecated and will be removed from pandas in a future version. Use pandas.concat instead.\n",
      "  df_out = df_out.append({'kick-off':parsed}, ignore_index=True)\n",
      "C:\\Users\\marty\\AppData\\Local\\Temp\\ipykernel_32120\\4108023383.py:2: FutureWarning: The frame.append method is deprecated and will be removed from pandas in a future version. Use pandas.concat instead.\n",
      "  df_out = df_out.append({'kick-off':parsed}, ignore_index=True)\n",
      "C:\\Users\\marty\\AppData\\Local\\Temp\\ipykernel_32120\\4108023383.py:2: FutureWarning: The frame.append method is deprecated and will be removed from pandas in a future version. Use pandas.concat instead.\n",
      "  df_out = df_out.append({'kick-off':parsed}, ignore_index=True)\n",
      "C:\\Users\\marty\\AppData\\Local\\Temp\\ipykernel_32120\\4108023383.py:2: FutureWarning: The frame.append method is deprecated and will be removed from pandas in a future version. Use pandas.concat instead.\n",
      "  df_out = df_out.append({'kick-off':parsed}, ignore_index=True)\n",
      "C:\\Users\\marty\\AppData\\Local\\Temp\\ipykernel_32120\\4108023383.py:2: FutureWarning: The frame.append method is deprecated and will be removed from pandas in a future version. Use pandas.concat instead.\n",
      "  df_out = df_out.append({'kick-off':parsed}, ignore_index=True)\n",
      "C:\\Users\\marty\\AppData\\Local\\Temp\\ipykernel_32120\\4108023383.py:2: FutureWarning: The frame.append method is deprecated and will be removed from pandas in a future version. Use pandas.concat instead.\n",
      "  df_out = df_out.append({'kick-off':parsed}, ignore_index=True)\n",
      "C:\\Users\\marty\\AppData\\Local\\Temp\\ipykernel_32120\\4108023383.py:2: FutureWarning: The frame.append method is deprecated and will be removed from pandas in a future version. Use pandas.concat instead.\n",
      "  df_out = df_out.append({'kick-off':parsed}, ignore_index=True)\n",
      "C:\\Users\\marty\\AppData\\Local\\Temp\\ipykernel_32120\\4108023383.py:2: FutureWarning: The frame.append method is deprecated and will be removed from pandas in a future version. Use pandas.concat instead.\n",
      "  df_out = df_out.append({'kick-off':parsed}, ignore_index=True)\n",
      "C:\\Users\\marty\\AppData\\Local\\Temp\\ipykernel_32120\\4108023383.py:2: FutureWarning: The frame.append method is deprecated and will be removed from pandas in a future version. Use pandas.concat instead.\n",
      "  df_out = df_out.append({'kick-off':parsed}, ignore_index=True)\n",
      "C:\\Users\\marty\\AppData\\Local\\Temp\\ipykernel_32120\\4108023383.py:2: FutureWarning: The frame.append method is deprecated and will be removed from pandas in a future version. Use pandas.concat instead.\n",
      "  df_out = df_out.append({'kick-off':parsed}, ignore_index=True)\n",
      "C:\\Users\\marty\\AppData\\Local\\Temp\\ipykernel_32120\\4108023383.py:2: FutureWarning: The frame.append method is deprecated and will be removed from pandas in a future version. Use pandas.concat instead.\n",
      "  df_out = df_out.append({'kick-off':parsed}, ignore_index=True)\n",
      "C:\\Users\\marty\\AppData\\Local\\Temp\\ipykernel_32120\\4108023383.py:2: FutureWarning: The frame.append method is deprecated and will be removed from pandas in a future version. Use pandas.concat instead.\n",
      "  df_out = df_out.append({'kick-off':parsed}, ignore_index=True)\n",
      "C:\\Users\\marty\\AppData\\Local\\Temp\\ipykernel_32120\\4108023383.py:2: FutureWarning: The frame.append method is deprecated and will be removed from pandas in a future version. Use pandas.concat instead.\n",
      "  df_out = df_out.append({'kick-off':parsed}, ignore_index=True)\n",
      "C:\\Users\\marty\\AppData\\Local\\Temp\\ipykernel_32120\\4108023383.py:2: FutureWarning: The frame.append method is deprecated and will be removed from pandas in a future version. Use pandas.concat instead.\n",
      "  df_out = df_out.append({'kick-off':parsed}, ignore_index=True)\n",
      "C:\\Users\\marty\\AppData\\Local\\Temp\\ipykernel_32120\\4108023383.py:2: FutureWarning: The frame.append method is deprecated and will be removed from pandas in a future version. Use pandas.concat instead.\n",
      "  df_out = df_out.append({'kick-off':parsed}, ignore_index=True)\n",
      "C:\\Users\\marty\\AppData\\Local\\Temp\\ipykernel_32120\\4108023383.py:2: FutureWarning: The frame.append method is deprecated and will be removed from pandas in a future version. Use pandas.concat instead.\n",
      "  df_out = df_out.append({'kick-off':parsed}, ignore_index=True)\n",
      "C:\\Users\\marty\\AppData\\Local\\Temp\\ipykernel_32120\\4108023383.py:2: FutureWarning: The frame.append method is deprecated and will be removed from pandas in a future version. Use pandas.concat instead.\n",
      "  df_out = df_out.append({'kick-off':parsed}, ignore_index=True)\n",
      "C:\\Users\\marty\\AppData\\Local\\Temp\\ipykernel_32120\\4108023383.py:2: FutureWarning: The frame.append method is deprecated and will be removed from pandas in a future version. Use pandas.concat instead.\n",
      "  df_out = df_out.append({'kick-off':parsed}, ignore_index=True)\n",
      "C:\\Users\\marty\\AppData\\Local\\Temp\\ipykernel_32120\\4108023383.py:2: FutureWarning: The frame.append method is deprecated and will be removed from pandas in a future version. Use pandas.concat instead.\n",
      "  df_out = df_out.append({'kick-off':parsed}, ignore_index=True)\n",
      "C:\\Users\\marty\\AppData\\Local\\Temp\\ipykernel_32120\\4108023383.py:2: FutureWarning: The frame.append method is deprecated and will be removed from pandas in a future version. Use pandas.concat instead.\n",
      "  df_out = df_out.append({'kick-off':parsed}, ignore_index=True)\n",
      "C:\\Users\\marty\\AppData\\Local\\Temp\\ipykernel_32120\\4108023383.py:2: FutureWarning: The frame.append method is deprecated and will be removed from pandas in a future version. Use pandas.concat instead.\n",
      "  df_out = df_out.append({'kick-off':parsed}, ignore_index=True)\n",
      "C:\\Users\\marty\\AppData\\Local\\Temp\\ipykernel_32120\\4108023383.py:2: FutureWarning: The frame.append method is deprecated and will be removed from pandas in a future version. Use pandas.concat instead.\n",
      "  df_out = df_out.append({'kick-off':parsed}, ignore_index=True)\n",
      "C:\\Users\\marty\\AppData\\Local\\Temp\\ipykernel_32120\\4108023383.py:2: FutureWarning: The frame.append method is deprecated and will be removed from pandas in a future version. Use pandas.concat instead.\n",
      "  df_out = df_out.append({'kick-off':parsed}, ignore_index=True)\n",
      "C:\\Users\\marty\\AppData\\Local\\Temp\\ipykernel_32120\\4108023383.py:2: FutureWarning: The frame.append method is deprecated and will be removed from pandas in a future version. Use pandas.concat instead.\n",
      "  df_out = df_out.append({'kick-off':parsed}, ignore_index=True)\n",
      "C:\\Users\\marty\\AppData\\Local\\Temp\\ipykernel_32120\\4108023383.py:2: FutureWarning: The frame.append method is deprecated and will be removed from pandas in a future version. Use pandas.concat instead.\n",
      "  df_out = df_out.append({'kick-off':parsed}, ignore_index=True)\n",
      "C:\\Users\\marty\\AppData\\Local\\Temp\\ipykernel_32120\\4108023383.py:2: FutureWarning: The frame.append method is deprecated and will be removed from pandas in a future version. Use pandas.concat instead.\n",
      "  df_out = df_out.append({'kick-off':parsed}, ignore_index=True)\n",
      "C:\\Users\\marty\\AppData\\Local\\Temp\\ipykernel_32120\\4108023383.py:2: FutureWarning: The frame.append method is deprecated and will be removed from pandas in a future version. Use pandas.concat instead.\n",
      "  df_out = df_out.append({'kick-off':parsed}, ignore_index=True)\n",
      "C:\\Users\\marty\\AppData\\Local\\Temp\\ipykernel_32120\\4108023383.py:2: FutureWarning: The frame.append method is deprecated and will be removed from pandas in a future version. Use pandas.concat instead.\n",
      "  df_out = df_out.append({'kick-off':parsed}, ignore_index=True)\n",
      "C:\\Users\\marty\\AppData\\Local\\Temp\\ipykernel_32120\\4108023383.py:2: FutureWarning: The frame.append method is deprecated and will be removed from pandas in a future version. Use pandas.concat instead.\n",
      "  df_out = df_out.append({'kick-off':parsed}, ignore_index=True)\n",
      "C:\\Users\\marty\\AppData\\Local\\Temp\\ipykernel_32120\\4108023383.py:2: FutureWarning: The frame.append method is deprecated and will be removed from pandas in a future version. Use pandas.concat instead.\n",
      "  df_out = df_out.append({'kick-off':parsed}, ignore_index=True)\n",
      "C:\\Users\\marty\\AppData\\Local\\Temp\\ipykernel_32120\\4108023383.py:2: FutureWarning: The frame.append method is deprecated and will be removed from pandas in a future version. Use pandas.concat instead.\n",
      "  df_out = df_out.append({'kick-off':parsed}, ignore_index=True)\n",
      "C:\\Users\\marty\\AppData\\Local\\Temp\\ipykernel_32120\\4108023383.py:2: FutureWarning: The frame.append method is deprecated and will be removed from pandas in a future version. Use pandas.concat instead.\n",
      "  df_out = df_out.append({'kick-off':parsed}, ignore_index=True)\n",
      "C:\\Users\\marty\\AppData\\Local\\Temp\\ipykernel_32120\\4108023383.py:2: FutureWarning: The frame.append method is deprecated and will be removed from pandas in a future version. Use pandas.concat instead.\n",
      "  df_out = df_out.append({'kick-off':parsed}, ignore_index=True)\n",
      "C:\\Users\\marty\\AppData\\Local\\Temp\\ipykernel_32120\\4108023383.py:2: FutureWarning: The frame.append method is deprecated and will be removed from pandas in a future version. Use pandas.concat instead.\n",
      "  df_out = df_out.append({'kick-off':parsed}, ignore_index=True)\n",
      "C:\\Users\\marty\\AppData\\Local\\Temp\\ipykernel_32120\\4108023383.py:2: FutureWarning: The frame.append method is deprecated and will be removed from pandas in a future version. Use pandas.concat instead.\n",
      "  df_out = df_out.append({'kick-off':parsed}, ignore_index=True)\n",
      "C:\\Users\\marty\\AppData\\Local\\Temp\\ipykernel_32120\\4108023383.py:2: FutureWarning: The frame.append method is deprecated and will be removed from pandas in a future version. Use pandas.concat instead.\n",
      "  df_out = df_out.append({'kick-off':parsed}, ignore_index=True)\n",
      "C:\\Users\\marty\\AppData\\Local\\Temp\\ipykernel_32120\\4108023383.py:2: FutureWarning: The frame.append method is deprecated and will be removed from pandas in a future version. Use pandas.concat instead.\n",
      "  df_out = df_out.append({'kick-off':parsed}, ignore_index=True)\n",
      "C:\\Users\\marty\\AppData\\Local\\Temp\\ipykernel_32120\\4108023383.py:2: FutureWarning: The frame.append method is deprecated and will be removed from pandas in a future version. Use pandas.concat instead.\n",
      "  df_out = df_out.append({'kick-off':parsed}, ignore_index=True)\n",
      "C:\\Users\\marty\\AppData\\Local\\Temp\\ipykernel_32120\\4108023383.py:2: FutureWarning: The frame.append method is deprecated and will be removed from pandas in a future version. Use pandas.concat instead.\n",
      "  df_out = df_out.append({'kick-off':parsed}, ignore_index=True)\n",
      "C:\\Users\\marty\\AppData\\Local\\Temp\\ipykernel_32120\\4108023383.py:2: FutureWarning: The frame.append method is deprecated and will be removed from pandas in a future version. Use pandas.concat instead.\n",
      "  df_out = df_out.append({'kick-off':parsed}, ignore_index=True)\n",
      "C:\\Users\\marty\\AppData\\Local\\Temp\\ipykernel_32120\\4108023383.py:2: FutureWarning: The frame.append method is deprecated and will be removed from pandas in a future version. Use pandas.concat instead.\n",
      "  df_out = df_out.append({'kick-off':parsed}, ignore_index=True)\n",
      "C:\\Users\\marty\\AppData\\Local\\Temp\\ipykernel_32120\\4108023383.py:2: FutureWarning: The frame.append method is deprecated and will be removed from pandas in a future version. Use pandas.concat instead.\n",
      "  df_out = df_out.append({'kick-off':parsed}, ignore_index=True)\n",
      "C:\\Users\\marty\\AppData\\Local\\Temp\\ipykernel_32120\\4108023383.py:2: FutureWarning: The frame.append method is deprecated and will be removed from pandas in a future version. Use pandas.concat instead.\n",
      "  df_out = df_out.append({'kick-off':parsed}, ignore_index=True)\n",
      "C:\\Users\\marty\\AppData\\Local\\Temp\\ipykernel_32120\\4108023383.py:2: FutureWarning: The frame.append method is deprecated and will be removed from pandas in a future version. Use pandas.concat instead.\n",
      "  df_out = df_out.append({'kick-off':parsed}, ignore_index=True)\n",
      "C:\\Users\\marty\\AppData\\Local\\Temp\\ipykernel_32120\\4108023383.py:2: FutureWarning: The frame.append method is deprecated and will be removed from pandas in a future version. Use pandas.concat instead.\n",
      "  df_out = df_out.append({'kick-off':parsed}, ignore_index=True)\n",
      "C:\\Users\\marty\\AppData\\Local\\Temp\\ipykernel_32120\\4108023383.py:2: FutureWarning: The frame.append method is deprecated and will be removed from pandas in a future version. Use pandas.concat instead.\n",
      "  df_out = df_out.append({'kick-off':parsed}, ignore_index=True)\n",
      "C:\\Users\\marty\\AppData\\Local\\Temp\\ipykernel_32120\\4108023383.py:2: FutureWarning: The frame.append method is deprecated and will be removed from pandas in a future version. Use pandas.concat instead.\n",
      "  df_out = df_out.append({'kick-off':parsed}, ignore_index=True)\n",
      "C:\\Users\\marty\\AppData\\Local\\Temp\\ipykernel_32120\\4108023383.py:2: FutureWarning: The frame.append method is deprecated and will be removed from pandas in a future version. Use pandas.concat instead.\n",
      "  df_out = df_out.append({'kick-off':parsed}, ignore_index=True)\n",
      "C:\\Users\\marty\\AppData\\Local\\Temp\\ipykernel_32120\\4108023383.py:2: FutureWarning: The frame.append method is deprecated and will be removed from pandas in a future version. Use pandas.concat instead.\n",
      "  df_out = df_out.append({'kick-off':parsed}, ignore_index=True)\n",
      "C:\\Users\\marty\\AppData\\Local\\Temp\\ipykernel_32120\\4108023383.py:2: FutureWarning: The frame.append method is deprecated and will be removed from pandas in a future version. Use pandas.concat instead.\n",
      "  df_out = df_out.append({'kick-off':parsed}, ignore_index=True)\n",
      "C:\\Users\\marty\\AppData\\Local\\Temp\\ipykernel_32120\\4108023383.py:2: FutureWarning: The frame.append method is deprecated and will be removed from pandas in a future version. Use pandas.concat instead.\n",
      "  df_out = df_out.append({'kick-off':parsed}, ignore_index=True)\n",
      "C:\\Users\\marty\\AppData\\Local\\Temp\\ipykernel_32120\\4108023383.py:2: FutureWarning: The frame.append method is deprecated and will be removed from pandas in a future version. Use pandas.concat instead.\n",
      "  df_out = df_out.append({'kick-off':parsed}, ignore_index=True)\n",
      "C:\\Users\\marty\\AppData\\Local\\Temp\\ipykernel_32120\\4108023383.py:2: FutureWarning: The frame.append method is deprecated and will be removed from pandas in a future version. Use pandas.concat instead.\n",
      "  df_out = df_out.append({'kick-off':parsed}, ignore_index=True)\n",
      "C:\\Users\\marty\\AppData\\Local\\Temp\\ipykernel_32120\\4108023383.py:2: FutureWarning: The frame.append method is deprecated and will be removed from pandas in a future version. Use pandas.concat instead.\n",
      "  df_out = df_out.append({'kick-off':parsed}, ignore_index=True)\n",
      "C:\\Users\\marty\\AppData\\Local\\Temp\\ipykernel_32120\\4108023383.py:2: FutureWarning: The frame.append method is deprecated and will be removed from pandas in a future version. Use pandas.concat instead.\n",
      "  df_out = df_out.append({'kick-off':parsed}, ignore_index=True)\n",
      "C:\\Users\\marty\\AppData\\Local\\Temp\\ipykernel_32120\\4108023383.py:2: FutureWarning: The frame.append method is deprecated and will be removed from pandas in a future version. Use pandas.concat instead.\n",
      "  df_out = df_out.append({'kick-off':parsed}, ignore_index=True)\n",
      "C:\\Users\\marty\\AppData\\Local\\Temp\\ipykernel_32120\\4108023383.py:2: FutureWarning: The frame.append method is deprecated and will be removed from pandas in a future version. Use pandas.concat instead.\n",
      "  df_out = df_out.append({'kick-off':parsed}, ignore_index=True)\n",
      "C:\\Users\\marty\\AppData\\Local\\Temp\\ipykernel_32120\\4108023383.py:2: FutureWarning: The frame.append method is deprecated and will be removed from pandas in a future version. Use pandas.concat instead.\n",
      "  df_out = df_out.append({'kick-off':parsed}, ignore_index=True)\n",
      "C:\\Users\\marty\\AppData\\Local\\Temp\\ipykernel_32120\\4108023383.py:2: FutureWarning: The frame.append method is deprecated and will be removed from pandas in a future version. Use pandas.concat instead.\n",
      "  df_out = df_out.append({'kick-off':parsed}, ignore_index=True)\n",
      "C:\\Users\\marty\\AppData\\Local\\Temp\\ipykernel_32120\\4108023383.py:2: FutureWarning: The frame.append method is deprecated and will be removed from pandas in a future version. Use pandas.concat instead.\n",
      "  df_out = df_out.append({'kick-off':parsed}, ignore_index=True)\n",
      "C:\\Users\\marty\\AppData\\Local\\Temp\\ipykernel_32120\\4108023383.py:2: FutureWarning: The frame.append method is deprecated and will be removed from pandas in a future version. Use pandas.concat instead.\n",
      "  df_out = df_out.append({'kick-off':parsed}, ignore_index=True)\n",
      "C:\\Users\\marty\\AppData\\Local\\Temp\\ipykernel_32120\\4108023383.py:2: FutureWarning: The frame.append method is deprecated and will be removed from pandas in a future version. Use pandas.concat instead.\n",
      "  df_out = df_out.append({'kick-off':parsed}, ignore_index=True)\n",
      "C:\\Users\\marty\\AppData\\Local\\Temp\\ipykernel_32120\\4108023383.py:2: FutureWarning: The frame.append method is deprecated and will be removed from pandas in a future version. Use pandas.concat instead.\n",
      "  df_out = df_out.append({'kick-off':parsed}, ignore_index=True)\n",
      "C:\\Users\\marty\\AppData\\Local\\Temp\\ipykernel_32120\\4108023383.py:2: FutureWarning: The frame.append method is deprecated and will be removed from pandas in a future version. Use pandas.concat instead.\n",
      "  df_out = df_out.append({'kick-off':parsed}, ignore_index=True)\n",
      "C:\\Users\\marty\\AppData\\Local\\Temp\\ipykernel_32120\\4108023383.py:2: FutureWarning: The frame.append method is deprecated and will be removed from pandas in a future version. Use pandas.concat instead.\n",
      "  df_out = df_out.append({'kick-off':parsed}, ignore_index=True)\n",
      "C:\\Users\\marty\\AppData\\Local\\Temp\\ipykernel_32120\\4108023383.py:2: FutureWarning: The frame.append method is deprecated and will be removed from pandas in a future version. Use pandas.concat instead.\n",
      "  df_out = df_out.append({'kick-off':parsed}, ignore_index=True)\n",
      "C:\\Users\\marty\\AppData\\Local\\Temp\\ipykernel_32120\\4108023383.py:2: FutureWarning: The frame.append method is deprecated and will be removed from pandas in a future version. Use pandas.concat instead.\n",
      "  df_out = df_out.append({'kick-off':parsed}, ignore_index=True)\n",
      "C:\\Users\\marty\\AppData\\Local\\Temp\\ipykernel_32120\\4108023383.py:2: FutureWarning: The frame.append method is deprecated and will be removed from pandas in a future version. Use pandas.concat instead.\n",
      "  df_out = df_out.append({'kick-off':parsed}, ignore_index=True)\n",
      "C:\\Users\\marty\\AppData\\Local\\Temp\\ipykernel_32120\\4108023383.py:2: FutureWarning: The frame.append method is deprecated and will be removed from pandas in a future version. Use pandas.concat instead.\n",
      "  df_out = df_out.append({'kick-off':parsed}, ignore_index=True)\n",
      "C:\\Users\\marty\\AppData\\Local\\Temp\\ipykernel_32120\\4108023383.py:2: FutureWarning: The frame.append method is deprecated and will be removed from pandas in a future version. Use pandas.concat instead.\n",
      "  df_out = df_out.append({'kick-off':parsed}, ignore_index=True)\n",
      "C:\\Users\\marty\\AppData\\Local\\Temp\\ipykernel_32120\\4108023383.py:2: FutureWarning: The frame.append method is deprecated and will be removed from pandas in a future version. Use pandas.concat instead.\n",
      "  df_out = df_out.append({'kick-off':parsed}, ignore_index=True)\n",
      "C:\\Users\\marty\\AppData\\Local\\Temp\\ipykernel_32120\\4108023383.py:2: FutureWarning: The frame.append method is deprecated and will be removed from pandas in a future version. Use pandas.concat instead.\n",
      "  df_out = df_out.append({'kick-off':parsed}, ignore_index=True)\n",
      "C:\\Users\\marty\\AppData\\Local\\Temp\\ipykernel_32120\\4108023383.py:2: FutureWarning: The frame.append method is deprecated and will be removed from pandas in a future version. Use pandas.concat instead.\n",
      "  df_out = df_out.append({'kick-off':parsed}, ignore_index=True)\n"
     ]
    }
   ],
   "source": [
    "for parsed in parseds:\n",
    "    df_out = df_out.append({'kick-off':parsed}, ignore_index=True)\n",
    "\n",
    "print(df_out)\n",
    "\n",
    "#dumps(parsed, indent=4)  \n",
    "#print(parsed[0])\n",
    "\n",
    "# Create a dictionary\n",
    "#dict= {'kick-off': parsed for parsed in parseds}\n",
    "#dict"
   ]
  },
  {
   "cell_type": "code",
   "execution_count": 72,
   "id": "0f5c55f3",
   "metadata": {},
   "outputs": [],
   "source": [
    "df_out.to_json(os.path.join(folder_out, bos_out), orient='records')"
   ]
  },
  {
   "cell_type": "code",
   "execution_count": null,
   "id": "67accf13",
   "metadata": {},
   "outputs": [],
   "source": []
  },
  {
   "cell_type": "code",
   "execution_count": null,
   "id": "9785027b",
   "metadata": {},
   "outputs": [],
   "source": []
  },
  {
   "cell_type": "code",
   "execution_count": null,
   "id": "9a5c6679",
   "metadata": {},
   "outputs": [],
   "source": []
  }
 ],
 "metadata": {
  "colab": {
   "provenance": [
    {
     "file_id": "https://github.com/martin-tav/united_nations-GSS/blob/main/GSS%20year.ipynb",
     "timestamp": 1700133934363
    }
   ]
  },
  "kernelspec": {
   "display_name": "Python 3 (ipykernel)",
   "language": "python",
   "name": "python3"
  },
  "language_info": {
   "codemirror_mode": {
    "name": "ipython",
    "version": 3
   },
   "file_extension": ".py",
   "mimetype": "text/x-python",
   "name": "python",
   "nbconvert_exporter": "python",
   "pygments_lexer": "ipython3",
   "version": "3.11.3"
  }
 },
 "nbformat": 4,
 "nbformat_minor": 5
}
