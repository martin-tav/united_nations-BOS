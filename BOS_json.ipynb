{
 "cells": [
  {
   "cell_type": "code",
   "execution_count": 11,
   "id": "f17e9469",
   "metadata": {
    "id": "f17e9469"
   },
   "outputs": [],
   "source": [
    "import pandas as pd\n",
    "import os"
   ]
  },
  {
   "cell_type": "code",
   "execution_count": 12,
   "id": "36944839",
   "metadata": {
    "colab": {
     "base_uri": "https://localhost:8080/"
    },
    "id": "36944839",
    "outputId": "b3fab10a-c795-45ea-e11f-004d156ecf6e"
   },
   "outputs": [
    {
     "name": "stdout",
     "output_type": "stream",
     "text": [
      "/Users/juma/Documents/Repos/UN/BOS\n"
     ]
    }
   ],
   "source": [
    "path = os.getcwd()\n",
    "\n",
    "device = 'mac'\n",
    "\n",
    "if device == 'pc':\n",
    "    path = 'D:\\\\IONOS HiDrive\\\\Perso_MT\\\\Repos\\\\UN\\\\BOS'\n",
    "elif device == 'github':\n",
    "    # All files are pulled from github repository\n",
    "    path = 'https://raw.githubusercontent.com/martin-tav/united_nations-BOS/master/'\n",
    "elif device == 'mac':\n",
    "    path = '/Users/juma/Documents/Repos/UN/BOS'\n",
    "    \n",
    "print(path)"
   ]
  },
  {
   "cell_type": "markdown",
   "id": "0913cfc6",
   "metadata": {
    "id": "0913cfc6"
   },
   "source": [
    "# 1. Data extraction and preprocessing"
   ]
  },
  {
   "cell_type": "markdown",
   "id": "af6eda72",
   "metadata": {
    "id": "af6eda72"
   },
   "source": [
    "# 2. Files paths"
   ]
  },
  {
   "cell_type": "code",
   "execution_count": 26,
   "id": "5895e7ba",
   "metadata": {
    "colab": {
     "base_uri": "https://localhost:8080/"
    },
    "id": "5895e7ba",
    "outputId": "808518d5-fb8f-4d13-d272-dcb162d77440"
   },
   "outputs": [
    {
     "name": "stdout",
     "output_type": "stream",
     "text": [
      "/Users/juma/Documents/Repos/UN/BOS/data/in\n"
     ]
    }
   ],
   "source": [
    "folder = os.path.join(path, \"data\")\n",
    "folder_in = os.path.join(folder, \"in\")\n",
    "folder_out = os.path.join(folder, \"out\")\n",
    "\n",
    "# kick_in = 'bos_migration_in.csv'\n",
    "kick_in = 'kickoff2_AFG.csv'\n",
    "kick_out = 'kickoff.json'\n",
    "#part_in = 'participatingEntitis_dummy_data.csv'\n",
    "# part_in = 'kick-off_participating_agencies_AFG.csv'\n",
    "part_in = 'participatingEntities2_AFG.csv'\n",
    "part_out = 'participatingEntities.json'\n",
    "# part_out = 'participatingEntities_dummy_data.json'\n",
    "#risk_in = 'planRisks_dummy_data.csv'\n",
    "risk_in = 'planrisks2_AFG.csv'\n",
    "risk_out = 'planrisks.json'\n",
    "\n",
    "main_out = 'out_AFG.json'\n",
    "main_csv = 'out.csv'\n",
    "print(folder_in)\n"
   ]
  },
  {
   "cell_type": "markdown",
   "id": "5a32a4d5",
   "metadata": {
    "id": "5a32a4d5"
   },
   "source": [
    "# 3. Loading data"
   ]
  },
  {
   "cell_type": "code",
   "execution_count": 27,
   "id": "4d6d2c66",
   "metadata": {
    "id": "4d6d2c66"
   },
   "outputs": [],
   "source": [
    "df_kick = pd.read_csv(os.path.join(folder_in, kick_in), sep=';')\n",
    "df_part = pd.read_csv(os.path.join(folder_in, part_in), sep=';')\n",
    "df_risk = pd.read_csv(os.path.join(folder_in, risk_in), sep=';')"
   ]
  },
  {
   "cell_type": "code",
   "execution_count": 28,
   "id": "3fad28d2",
   "metadata": {},
   "outputs": [
    {
     "data": {
      "text/plain": [
       "Index(['ISO3', 'Country', 'KICKOFF_TRACKERID',\n",
       "       'uninfo.organization.abbreviation', 'organizationId', 'participating'],\n",
       "      dtype='object')"
      ]
     },
     "execution_count": 28,
     "metadata": {},
     "output_type": "execute_result"
    }
   ],
   "source": [
    "df_part.columns"
   ]
  },
  {
   "cell_type": "markdown",
   "id": "b957fa07",
   "metadata": {
    "id": "b957fa07"
   },
   "source": [
    "# 4. Process and transform"
   ]
  },
  {
   "cell_type": "code",
   "execution_count": 29,
   "id": "f6a16a74",
   "metadata": {
    "colab": {
     "base_uri": "https://localhost:8080/",
     "height": 135
    },
    "id": "f6a16a74",
    "outputId": "c28adddd-bbf7-47e2-e1fa-78b0afc91559"
   },
   "outputs": [
    {
     "name": "stderr",
     "output_type": "stream",
     "text": [
      "/var/folders/ht/cpkk9trx7s96h3fknhg9k2n40000gr/T/ipykernel_48675/965478850.py:25: FutureWarning: The frame.append method is deprecated and will be removed from pandas in a future version. Use pandas.concat instead.\n",
      "  df_main_out = df_main_out.append({'kick-off':kick_dict,'participatingEntitites':part_dict,'planRisks':risk_dict\n"
     ]
    },
    {
     "data": {
      "text/html": [
       "<div>\n",
       "<style scoped>\n",
       "    .dataframe tbody tr th:only-of-type {\n",
       "        vertical-align: middle;\n",
       "    }\n",
       "\n",
       "    .dataframe tbody tr th {\n",
       "        vertical-align: top;\n",
       "    }\n",
       "\n",
       "    .dataframe thead th {\n",
       "        text-align: right;\n",
       "    }\n",
       "</style>\n",
       "<table border=\"1\" class=\"dataframe\">\n",
       "  <thead>\n",
       "    <tr style=\"text-align: right;\">\n",
       "      <th></th>\n",
       "      <th>kick-off</th>\n",
       "      <th>participatingEntitites</th>\n",
       "      <th>planRisks</th>\n",
       "    </tr>\n",
       "  </thead>\n",
       "  <tbody>\n",
       "    <tr>\n",
       "      <th>0</th>\n",
       "      <td>{'startDate': '01/01/2024', 'endDate': '31/03/...</td>\n",
       "      <td>[{'organizationId': 11, 'uninfo.organization.a...</td>\n",
       "      <td>[{'type': 'assumption', 'description': 'All pa...</td>\n",
       "    </tr>\n",
       "  </tbody>\n",
       "</table>\n",
       "</div>"
      ],
      "text/plain": [
       "                                            kick-off  \\\n",
       "0  {'startDate': '01/01/2024', 'endDate': '31/03/...   \n",
       "\n",
       "                              participatingEntitites  \\\n",
       "0  [{'organizationId': 11, 'uninfo.organization.a...   \n",
       "\n",
       "                                           planRisks  \n",
       "0  [{'type': 'assumption', 'description': 'All pa...  "
      ]
     },
     "execution_count": 29,
     "metadata": {},
     "output_type": "execute_result"
    }
   ],
   "source": [
    "from json import loads, dumps\n",
    "import json\n",
    "\n",
    "nb=1\n",
    "kick_cols= ['startDate', 'endDate','description','KICKOFF_TRACKERID']\n",
    "df_kick = df_kick[kick_cols].head(nb)\n",
    "\n",
    "\n",
    "kick_str = df_kick.to_json(orient=\"records\")\n",
    "kick_dict = loads(kick_str)[0]\n",
    "\n",
    "part_cols = ['organizationId', 'uninfo.organization.abbreviation', 'participating']\n",
    "df_part = df_part[part_cols]\n",
    "part_str = df_part.to_json(orient=\"records\")\n",
    "part_dict = loads(part_str)\n",
    "\n",
    "\n",
    "risk_cols = ['type','description', 'comment', 'likelihood', 'impact', 'risktreatment', 'mitigationMeasure']\n",
    "df_risk = df_risk[risk_cols]\n",
    "\n",
    "risk_str = df_risk.to_json(orient=\"records\")\n",
    "risk_dict = loads(risk_str)\n",
    "\n",
    "df_main_out = pd.DataFrame()\n",
    "df_main_out = df_main_out.append({'kick-off':kick_dict,'participatingEntitites':part_dict,'planRisks':risk_dict\n",
    "                                 }, ignore_index=True)\n",
    "\n",
    "df_main_out.to_json(os.path.join(folder_out, main_out), orient='records')\n",
    "df_main_out"
   ]
  },
  {
   "cell_type": "code",
   "execution_count": null,
   "id": "0f5c55f3",
   "metadata": {
    "id": "0f5c55f3"
   },
   "outputs": [],
   "source": []
  },
  {
   "cell_type": "markdown",
   "id": "294097ce",
   "metadata": {
    "id": "294097ce"
   },
   "source": [
    "## ANNEXES"
   ]
  },
  {
   "cell_type": "code",
   "execution_count": 30,
   "id": "0ef6a170",
   "metadata": {
    "colab": {
     "base_uri": "https://localhost:8080/"
    },
    "id": "0ef6a170",
    "outputId": "1c234a3b-c531-4589-a9bb-d1bd2fb3bb8d"
   },
   "outputs": [
    {
     "ename": "NameError",
     "evalue": "name 'parseds' is not defined",
     "output_type": "error",
     "traceback": [
      "\u001b[0;31m---------------------------------------------------------------------------\u001b[0m",
      "\u001b[0;31mNameError\u001b[0m                                 Traceback (most recent call last)",
      "Cell \u001b[0;32mIn[30], line 1\u001b[0m\n\u001b[0;32m----> 1\u001b[0m \u001b[38;5;28;01mfor\u001b[39;00m parsed \u001b[38;5;129;01min\u001b[39;00m parseds:\n\u001b[1;32m      2\u001b[0m     df_out \u001b[38;5;241m=\u001b[39m df_out\u001b[38;5;241m.\u001b[39mappend({\u001b[38;5;124m'\u001b[39m\u001b[38;5;124mkick-off\u001b[39m\u001b[38;5;124m'\u001b[39m:parsed}, ignore_index\u001b[38;5;241m=\u001b[39m\u001b[38;5;28;01mTrue\u001b[39;00m)\n\u001b[1;32m      4\u001b[0m \u001b[38;5;28;01mfor\u001b[39;00m part_load \u001b[38;5;129;01min\u001b[39;00m part_loads:\n",
      "\u001b[0;31mNameError\u001b[0m: name 'parseds' is not defined"
     ]
    }
   ],
   "source": [
    "for parsed in parseds:\n",
    "    df_out = df_out.append({'kick-off':parsed}, ignore_index=True)\n",
    "\n",
    "for part_load in part_loads:\n",
    "    df_part_out = df_part_out.append({'participatingEntitites':part_load}, ignore_index=True)\n",
    "\n",
    "for risk_load in risk_loads:\n",
    "    df_risk_out = df_risk_out.append({'planRisks':risk_load}, ignore_index=True)\n",
    "\n",
    "for main_load in main_loads:\n",
    "    df_main_out = df_main_out.append({'kick-off':parsed,'participatingEntitites':part_load,'planRisks':risk_load}, ignore_index=True)\n",
    "\n"
   ]
  },
  {
   "cell_type": "code",
   "execution_count": null,
   "id": "67accf13",
   "metadata": {
    "id": "67accf13"
   },
   "outputs": [],
   "source": []
  },
  {
   "cell_type": "code",
   "execution_count": null,
   "id": "9785027b",
   "metadata": {
    "id": "9785027b"
   },
   "outputs": [],
   "source": []
  },
  {
   "cell_type": "code",
   "execution_count": null,
   "id": "9a5c6679",
   "metadata": {
    "id": "9a5c6679"
   },
   "outputs": [],
   "source": []
  }
 ],
 "metadata": {
  "colab": {
   "provenance": []
  },
  "kernelspec": {
   "display_name": "Python 3 (ipykernel)",
   "language": "python",
   "name": "python3"
  },
  "language_info": {
   "codemirror_mode": {
    "name": "ipython",
    "version": 3
   },
   "file_extension": ".py",
   "mimetype": "text/x-python",
   "name": "python",
   "nbconvert_exporter": "python",
   "pygments_lexer": "ipython3",
   "version": "3.11.4"
  }
 },
 "nbformat": 4,
 "nbformat_minor": 5
}
