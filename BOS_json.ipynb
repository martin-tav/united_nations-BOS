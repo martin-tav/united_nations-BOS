{
 "cells": [
  {
   "cell_type": "code",
   "execution_count": 8,
   "id": "f17e9469",
   "metadata": {
    "id": "f17e9469"
   },
   "outputs": [],
   "source": [
    "import pandas as pd\n",
    "import os"
   ]
  },
  {
   "cell_type": "code",
   "execution_count": 27,
   "id": "36944839",
   "metadata": {
    "colab": {
     "base_uri": "https://localhost:8080/"
    },
    "id": "36944839",
    "outputId": "b3fab10a-c795-45ea-e11f-004d156ecf6e"
   },
   "outputs": [
    {
     "name": "stdout",
     "output_type": "stream",
     "text": [
      "/Users/juma/Documents/Repos/UN/BOS\n"
     ]
    }
   ],
   "source": [
    "path = os.getcwd()\n",
    "\n",
    "device = 'mac'\n",
    "\n",
    "if device == 'pc':\n",
    "    path = 'D:\\\\IONOS HiDrive\\\\Perso_MT\\\\Repos\\\\UN\\\\BOS'\n",
    "elif device == 'github':\n",
    "    # All files are pulled from github repository\n",
    "    path = 'https://raw.githubusercontent.com/martin-tav/united_nations-BOS/master/'\n",
    "elif device == 'mac':\n",
    "    path = '/Users/juma/Documents/Repos/UN/BOS'\n",
    "    \n",
    "print(path)"
   ]
  },
  {
   "cell_type": "markdown",
   "id": "0913cfc6",
   "metadata": {
    "id": "0913cfc6"
   },
   "source": [
    "# 1. Data extraction and preprocessing"
   ]
  },
  {
   "cell_type": "markdown",
   "id": "af6eda72",
   "metadata": {
    "id": "af6eda72"
   },
   "source": [
    "# 2. Files paths"
   ]
  },
  {
   "cell_type": "code",
   "execution_count": 32,
   "id": "5895e7ba",
   "metadata": {
    "colab": {
     "base_uri": "https://localhost:8080/"
    },
    "id": "5895e7ba",
    "outputId": "808518d5-fb8f-4d13-d272-dcb162d77440"
   },
   "outputs": [
    {
     "name": "stdout",
     "output_type": "stream",
     "text": [
      "/Users/juma/Documents/Repos/UN/BOS/data/in\n"
     ]
    }
   ],
   "source": [
    "folder = os.path.join(path, \"data\")\n",
    "folder_in = os.path.join(folder, \"in\")\n",
    "folder_out = os.path.join(folder, \"out\")\n",
    "\n",
    "kick_in = 'kickoff.csv'\n",
    "kick_out = 'kickoff.json'\n",
    "\n",
    "part_in = 'participatingEntities.csv'\n",
    "part_out = 'participatingEntities.json'\n",
    "\n",
    "risk_in = 'planRisks.csv'\n",
    "risk_out = 'planRisks.json'\n",
    "\n",
    "main_out = 'out.json'\n",
    "main_csv = 'out.csv'\n",
    "print(folder_in)\n"
   ]
  },
  {
   "cell_type": "markdown",
   "id": "5a32a4d5",
   "metadata": {
    "id": "5a32a4d5"
   },
   "source": [
    "# 3. Loading data & process\n"
   ]
  },
  {
   "cell_type": "code",
   "execution_count": 49,
   "id": "4d6d2c66",
   "metadata": {
    "id": "4d6d2c66"
   },
   "outputs": [
    {
     "name": "stderr",
     "output_type": "stream",
     "text": [
      "/var/folders/ht/cpkk9trx7s96h3fknhg9k2n40000gr/T/ipykernel_55753/3642935494.py:40: FutureWarning: The frame.append method is deprecated and will be removed from pandas in a future version. Use pandas.concat instead.\n",
      "  df_main_out = df_main_out.append({'iso':country, 'kickoff':kick_dict,'participatingEntitites':part_dict,'planRisks':risk_dict\n"
     ]
    },
    {
     "data": {
      "text/html": [
       "<div>\n",
       "<style scoped>\n",
       "    .dataframe tbody tr th:only-of-type {\n",
       "        vertical-align: middle;\n",
       "    }\n",
       "\n",
       "    .dataframe tbody tr th {\n",
       "        vertical-align: top;\n",
       "    }\n",
       "\n",
       "    .dataframe thead th {\n",
       "        text-align: right;\n",
       "    }\n",
       "</style>\n",
       "<table border=\"1\" class=\"dataframe\">\n",
       "  <thead>\n",
       "    <tr style=\"text-align: right;\">\n",
       "      <th></th>\n",
       "      <th>iso</th>\n",
       "      <th>kickoff</th>\n",
       "      <th>participatingEntitites</th>\n",
       "      <th>planRisks</th>\n",
       "    </tr>\n",
       "  </thead>\n",
       "  <tbody>\n",
       "    <tr>\n",
       "      <th>0</th>\n",
       "      <td>AFG</td>\n",
       "      <td>{'startDate': '2024-01-01', 'endDate': '2024-0...</td>\n",
       "      <td>[{'organizationId': 11, 'participating': True}...</td>\n",
       "      <td>[{'type': 'assumption', 'description': 'All pa...</td>\n",
       "    </tr>\n",
       "  </tbody>\n",
       "</table>\n",
       "</div>"
      ],
      "text/plain": [
       "   iso                                            kickoff  \\\n",
       "0  AFG  {'startDate': '2024-01-01', 'endDate': '2024-0...   \n",
       "\n",
       "                              participatingEntitites  \\\n",
       "0  [{'organizationId': 11, 'participating': True}...   \n",
       "\n",
       "                                           planRisks  \n",
       "0  [{'type': 'assumption', 'description': 'All pa...  "
      ]
     },
     "execution_count": 49,
     "metadata": {},
     "output_type": "execute_result"
    }
   ],
   "source": [
    "df_kick = pd.read_csv(os.path.join(folder_in, kick_in), sep=';')\n",
    "df_part = pd.read_csv(os.path.join(folder_in, part_in), sep=';')\n",
    "df_risk = pd.read_csv(os.path.join(folder_in, risk_in), sep=';')\n",
    "\n",
    "from json import loads, dumps\n",
    "import json\n",
    "\n",
    "def filter(df, cols, countryISO3):\n",
    "    df_result = df[cols].copy() \n",
    "    df_result = df_result[df_result['iso']==countryISO3]\n",
    "    df_result = df_result.drop(columns=['iso'])\n",
    "    return df_result\n",
    "\n",
    "country='AFG'\n",
    "nb=1\n",
    "kick_cols= ['iso', 'startDate', 'endDate','description','KICKOFF_TRACKERID']\n",
    "#df_kick = df_kick[kick_cols].head(nb)\n",
    "df_kick = filter(df_kick, kick_cols, country)\n",
    "kick_str = df_kick.to_json(orient=\"records\")\n",
    "kick_dict = loads(kick_str)[0]\n",
    "\n",
    "#part_cols = ['organizationId', 'uninfo.organization.abbreviation', 'participating']\n",
    "\n",
    "df_part = df_part.rename(columns={'uninfo.id':'organizationId'})\n",
    "part_cols = ['iso', 'organizationId', 'participating']\n",
    "\n",
    "df_part = filter(df_part, part_cols, country)\n",
    "part_str = df_part.to_json(orient=\"records\")\n",
    "part_dict = loads(part_str)\n",
    "\n",
    "\n",
    "#risk_cols = ['type','description', 'comment', 'likelihood', 'impact', 'risktreatment', 'mitigationMeasure']\n",
    "risk_cols = ['iso','type','description', 'comment', 'likelihood', 'impact', 'risktreatment', 'mitigationMeasure']\n",
    "df_risk = df_risk[risk_cols]\n",
    "df_risk = filter(df_risk, risk_cols, country)\n",
    "risk_str = df_risk.to_json(orient=\"records\")\n",
    "risk_dict = loads(risk_str)\n",
    "\n",
    "df_main_out = pd.DataFrame()\n",
    "df_main_out = df_main_out.append({'iso':country, 'kickoff':kick_dict,'participatingEntitites':part_dict,'planRisks':risk_dict\n",
    "                                 }, ignore_index=True)\n",
    "\n",
    "df_main_out.to_json(os.path.join(folder_out, main_out), orient='records')\n",
    "df_main_out"
   ]
  },
  {
   "cell_type": "code",
   "execution_count": null,
   "id": "0f5c55f3",
   "metadata": {
    "id": "0f5c55f3"
   },
   "outputs": [],
   "source": []
  },
  {
   "cell_type": "markdown",
   "id": "294097ce",
   "metadata": {
    "id": "294097ce"
   },
   "source": [
    "## ANNEXES"
   ]
  },
  {
   "cell_type": "code",
   "execution_count": 7,
   "id": "0ef6a170",
   "metadata": {
    "colab": {
     "base_uri": "https://localhost:8080/"
    },
    "id": "0ef6a170",
    "outputId": "1c234a3b-c531-4589-a9bb-d1bd2fb3bb8d"
   },
   "outputs": [
    {
     "ename": "NameError",
     "evalue": "name 'parseds' is not defined",
     "output_type": "error",
     "traceback": [
      "\u001b[0;31m---------------------------------------------------------------------------\u001b[0m",
      "\u001b[0;31mNameError\u001b[0m                                 Traceback (most recent call last)",
      "Cell \u001b[0;32mIn[7], line 1\u001b[0m\n\u001b[0;32m----> 1\u001b[0m \u001b[38;5;28;01mfor\u001b[39;00m parsed \u001b[38;5;129;01min\u001b[39;00m parseds:\n\u001b[1;32m      2\u001b[0m     df_out \u001b[38;5;241m=\u001b[39m df_out\u001b[38;5;241m.\u001b[39mappend({\u001b[38;5;124m'\u001b[39m\u001b[38;5;124mkick-off\u001b[39m\u001b[38;5;124m'\u001b[39m:parsed}, ignore_index\u001b[38;5;241m=\u001b[39m\u001b[38;5;28;01mTrue\u001b[39;00m)\n\u001b[1;32m      4\u001b[0m \u001b[38;5;28;01mfor\u001b[39;00m part_load \u001b[38;5;129;01min\u001b[39;00m part_loads:\n",
      "\u001b[0;31mNameError\u001b[0m: name 'parseds' is not defined"
     ]
    }
   ],
   "source": [
    "for parsed in parseds:\n",
    "    df_out = df_out.append({'kick-off':parsed}, ignore_index=True)\n",
    "\n",
    "for part_load in part_loads:\n",
    "    df_part_out = df_part_out.append({'participatingEntitites':part_load}, ignore_index=True)\n",
    "\n",
    "for risk_load in risk_loads:\n",
    "    df_risk_out = df_risk_out.append({'planRisks':risk_load}, ignore_index=True)\n",
    "\n",
    "for main_load in main_loads:\n",
    "    df_main_out = df_main_out.append({'kick-off':parsed,'participatingEntitites':part_load,'planRisks':risk_load}, ignore_index=True)\n",
    "\n"
   ]
  },
  {
   "cell_type": "code",
   "execution_count": null,
   "id": "67accf13",
   "metadata": {
    "id": "67accf13"
   },
   "outputs": [],
   "source": []
  },
  {
   "cell_type": "code",
   "execution_count": null,
   "id": "9785027b",
   "metadata": {
    "id": "9785027b"
   },
   "outputs": [],
   "source": []
  },
  {
   "cell_type": "code",
   "execution_count": null,
   "id": "9a5c6679",
   "metadata": {
    "id": "9a5c6679"
   },
   "outputs": [],
   "source": []
  }
 ],
 "metadata": {
  "colab": {
   "provenance": []
  },
  "kernelspec": {
   "display_name": "Python 3 (ipykernel)",
   "language": "python",
   "name": "python3"
  },
  "language_info": {
   "codemirror_mode": {
    "name": "ipython",
    "version": 3
   },
   "file_extension": ".py",
   "mimetype": "text/x-python",
   "name": "python",
   "nbconvert_exporter": "python",
   "pygments_lexer": "ipython3",
   "version": "3.11.4"
  }
 },
 "nbformat": 4,
 "nbformat_minor": 5
}
