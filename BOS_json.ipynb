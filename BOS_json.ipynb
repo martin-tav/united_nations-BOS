{
 "cells": [
  {
   "cell_type": "code",
   "execution_count": 6,
   "id": "f17e9469",
   "metadata": {
    "id": "f17e9469"
   },
   "outputs": [],
   "source": [
    "import pandas as pd\n",
    "import os"
   ]
  },
  {
   "cell_type": "code",
   "execution_count": 7,
   "id": "36944839",
   "metadata": {
    "colab": {
     "base_uri": "https://localhost:8080/"
    },
    "id": "36944839",
    "outputId": "b3fab10a-c795-45ea-e11f-004d156ecf6e"
   },
   "outputs": [
    {
     "name": "stdout",
     "output_type": "stream",
     "text": [
      "D:\\IONOS HiDrive\\Perso_MT\\Repos\\UN\\BOS\n"
     ]
    }
   ],
   "source": [
    "path = os.getcwd()\n",
    "\n",
    "device = 'pc'\n",
    "\n",
    "if device == 'pc':\n",
    "    path = 'D:\\\\IONOS HiDrive\\\\Perso_MT\\\\Repos\\\\UN\\\\BOS'\n",
    "elif device == 'github':\n",
    "    # All files are pulled from github repository\n",
    "    path = 'https://raw.githubusercontent.com/martin-tav/united_nations-BOS/master/'\n",
    "elif device == 'mac':\n",
    "    path = '/Users/juma/Documents/Repos/UN/BOS'\n",
    "    \n",
    "print(path)"
   ]
  },
  {
   "cell_type": "markdown",
   "id": "0913cfc6",
   "metadata": {
    "id": "0913cfc6"
   },
   "source": [
    "# 1. Data extraction and preprocessing"
   ]
  },
  {
   "cell_type": "markdown",
   "id": "af6eda72",
   "metadata": {
    "id": "af6eda72"
   },
   "source": [
    "# 2. Files paths"
   ]
  },
  {
   "cell_type": "code",
   "execution_count": 8,
   "id": "5895e7ba",
   "metadata": {
    "colab": {
     "base_uri": "https://localhost:8080/"
    },
    "id": "5895e7ba",
    "outputId": "808518d5-fb8f-4d13-d272-dcb162d77440"
   },
   "outputs": [
    {
     "name": "stdout",
     "output_type": "stream",
     "text": [
      "D:\\IONOS HiDrive\\Perso_MT\\Repos\\UN\\BOS\\data\\in\n"
     ]
    }
   ],
   "source": [
    "folder = os.path.join(path, \"data\")\n",
    "folder_in = os.path.join(folder, \"in\")\n",
    "folder_out = os.path.join(folder, \"out\")\n",
    "\n",
    "kick_in = 'kickoff.csv'\n",
    "kick_out = 'kickoff.json'\n",
    "\n",
    "part_in = 'participatingEntities.csv'\n",
    "part_out = 'participatingEntities.json'\n",
    "\n",
    "risk_in = 'planRisks.csv'\n",
    "risk_out = 'planRisks.json'\n",
    "\n",
    "main_out = 'out.json'\n",
    "main_csv = 'out.csv'\n",
    "print(folder_in)\n"
   ]
  },
  {
   "cell_type": "markdown",
   "id": "5a32a4d5",
   "metadata": {
    "id": "5a32a4d5"
   },
   "source": [
    "# 3. Loading data & process\n"
   ]
  },
  {
   "cell_type": "code",
   "execution_count": 15,
   "id": "4d6d2c66",
   "metadata": {
    "id": "4d6d2c66"
   },
   "outputs": [
    {
     "name": "stderr",
     "output_type": "stream",
     "text": [
      "C:\\Users\\Martin\\AppData\\Local\\Temp\\ipykernel_27772\\997083051.py:44: FutureWarning: The frame.append method is deprecated and will be removed from pandas in a future version. Use pandas.concat instead.\n",
      "  df_main_out = df_main_out.append({'iso':country, 'kickoff':kick_dict,'participatingEntitites':part_dict,'planRisks':risk_dict\n",
      "C:\\Users\\Martin\\AppData\\Local\\Temp\\ipykernel_27772\\997083051.py:44: FutureWarning: The frame.append method is deprecated and will be removed from pandas in a future version. Use pandas.concat instead.\n",
      "  df_main_out = df_main_out.append({'iso':country, 'kickoff':kick_dict,'participatingEntitites':part_dict,'planRisks':risk_dict\n",
      "C:\\Users\\Martin\\AppData\\Local\\Temp\\ipykernel_27772\\997083051.py:44: FutureWarning: The frame.append method is deprecated and will be removed from pandas in a future version. Use pandas.concat instead.\n",
      "  df_main_out = df_main_out.append({'iso':country, 'kickoff':kick_dict,'participatingEntitites':part_dict,'planRisks':risk_dict\n",
      "C:\\Users\\Martin\\AppData\\Local\\Temp\\ipykernel_27772\\997083051.py:44: FutureWarning: The frame.append method is deprecated and will be removed from pandas in a future version. Use pandas.concat instead.\n",
      "  df_main_out = df_main_out.append({'iso':country, 'kickoff':kick_dict,'participatingEntitites':part_dict,'planRisks':risk_dict\n",
      "C:\\Users\\Martin\\AppData\\Local\\Temp\\ipykernel_27772\\997083051.py:44: FutureWarning: The frame.append method is deprecated and will be removed from pandas in a future version. Use pandas.concat instead.\n",
      "  df_main_out = df_main_out.append({'iso':country, 'kickoff':kick_dict,'participatingEntitites':part_dict,'planRisks':risk_dict\n",
      "C:\\Users\\Martin\\AppData\\Local\\Temp\\ipykernel_27772\\997083051.py:44: FutureWarning: The frame.append method is deprecated and will be removed from pandas in a future version. Use pandas.concat instead.\n",
      "  df_main_out = df_main_out.append({'iso':country, 'kickoff':kick_dict,'participatingEntitites':part_dict,'planRisks':risk_dict\n",
      "C:\\Users\\Martin\\AppData\\Local\\Temp\\ipykernel_27772\\997083051.py:44: FutureWarning: The frame.append method is deprecated and will be removed from pandas in a future version. Use pandas.concat instead.\n",
      "  df_main_out = df_main_out.append({'iso':country, 'kickoff':kick_dict,'participatingEntitites':part_dict,'planRisks':risk_dict\n",
      "C:\\Users\\Martin\\AppData\\Local\\Temp\\ipykernel_27772\\997083051.py:44: FutureWarning: The frame.append method is deprecated and will be removed from pandas in a future version. Use pandas.concat instead.\n",
      "  df_main_out = df_main_out.append({'iso':country, 'kickoff':kick_dict,'participatingEntitites':part_dict,'planRisks':risk_dict\n",
      "C:\\Users\\Martin\\AppData\\Local\\Temp\\ipykernel_27772\\997083051.py:44: FutureWarning: The frame.append method is deprecated and will be removed from pandas in a future version. Use pandas.concat instead.\n",
      "  df_main_out = df_main_out.append({'iso':country, 'kickoff':kick_dict,'participatingEntitites':part_dict,'planRisks':risk_dict\n",
      "C:\\Users\\Martin\\AppData\\Local\\Temp\\ipykernel_27772\\997083051.py:44: FutureWarning: The frame.append method is deprecated and will be removed from pandas in a future version. Use pandas.concat instead.\n",
      "  df_main_out = df_main_out.append({'iso':country, 'kickoff':kick_dict,'participatingEntitites':part_dict,'planRisks':risk_dict\n",
      "C:\\Users\\Martin\\AppData\\Local\\Temp\\ipykernel_27772\\997083051.py:44: FutureWarning: The frame.append method is deprecated and will be removed from pandas in a future version. Use pandas.concat instead.\n",
      "  df_main_out = df_main_out.append({'iso':country, 'kickoff':kick_dict,'participatingEntitites':part_dict,'planRisks':risk_dict\n",
      "C:\\Users\\Martin\\AppData\\Local\\Temp\\ipykernel_27772\\997083051.py:44: FutureWarning: The frame.append method is deprecated and will be removed from pandas in a future version. Use pandas.concat instead.\n",
      "  df_main_out = df_main_out.append({'iso':country, 'kickoff':kick_dict,'participatingEntitites':part_dict,'planRisks':risk_dict\n",
      "C:\\Users\\Martin\\AppData\\Local\\Temp\\ipykernel_27772\\997083051.py:44: FutureWarning: The frame.append method is deprecated and will be removed from pandas in a future version. Use pandas.concat instead.\n",
      "  df_main_out = df_main_out.append({'iso':country, 'kickoff':kick_dict,'participatingEntitites':part_dict,'planRisks':risk_dict\n",
      "C:\\Users\\Martin\\AppData\\Local\\Temp\\ipykernel_27772\\997083051.py:44: FutureWarning: The frame.append method is deprecated and will be removed from pandas in a future version. Use pandas.concat instead.\n",
      "  df_main_out = df_main_out.append({'iso':country, 'kickoff':kick_dict,'participatingEntitites':part_dict,'planRisks':risk_dict\n",
      "C:\\Users\\Martin\\AppData\\Local\\Temp\\ipykernel_27772\\997083051.py:44: FutureWarning: The frame.append method is deprecated and will be removed from pandas in a future version. Use pandas.concat instead.\n",
      "  df_main_out = df_main_out.append({'iso':country, 'kickoff':kick_dict,'participatingEntitites':part_dict,'planRisks':risk_dict\n",
      "C:\\Users\\Martin\\AppData\\Local\\Temp\\ipykernel_27772\\997083051.py:44: FutureWarning: The frame.append method is deprecated and will be removed from pandas in a future version. Use pandas.concat instead.\n",
      "  df_main_out = df_main_out.append({'iso':country, 'kickoff':kick_dict,'participatingEntitites':part_dict,'planRisks':risk_dict\n",
      "C:\\Users\\Martin\\AppData\\Local\\Temp\\ipykernel_27772\\997083051.py:44: FutureWarning: The frame.append method is deprecated and will be removed from pandas in a future version. Use pandas.concat instead.\n",
      "  df_main_out = df_main_out.append({'iso':country, 'kickoff':kick_dict,'participatingEntitites':part_dict,'planRisks':risk_dict\n",
      "C:\\Users\\Martin\\AppData\\Local\\Temp\\ipykernel_27772\\997083051.py:44: FutureWarning: The frame.append method is deprecated and will be removed from pandas in a future version. Use pandas.concat instead.\n",
      "  df_main_out = df_main_out.append({'iso':country, 'kickoff':kick_dict,'participatingEntitites':part_dict,'planRisks':risk_dict\n",
      "C:\\Users\\Martin\\AppData\\Local\\Temp\\ipykernel_27772\\997083051.py:44: FutureWarning: The frame.append method is deprecated and will be removed from pandas in a future version. Use pandas.concat instead.\n",
      "  df_main_out = df_main_out.append({'iso':country, 'kickoff':kick_dict,'participatingEntitites':part_dict,'planRisks':risk_dict\n",
      "C:\\Users\\Martin\\AppData\\Local\\Temp\\ipykernel_27772\\997083051.py:44: FutureWarning: The frame.append method is deprecated and will be removed from pandas in a future version. Use pandas.concat instead.\n",
      "  df_main_out = df_main_out.append({'iso':country, 'kickoff':kick_dict,'participatingEntitites':part_dict,'planRisks':risk_dict\n",
      "C:\\Users\\Martin\\AppData\\Local\\Temp\\ipykernel_27772\\997083051.py:44: FutureWarning: The frame.append method is deprecated and will be removed from pandas in a future version. Use pandas.concat instead.\n",
      "  df_main_out = df_main_out.append({'iso':country, 'kickoff':kick_dict,'participatingEntitites':part_dict,'planRisks':risk_dict\n",
      "C:\\Users\\Martin\\AppData\\Local\\Temp\\ipykernel_27772\\997083051.py:44: FutureWarning: The frame.append method is deprecated and will be removed from pandas in a future version. Use pandas.concat instead.\n",
      "  df_main_out = df_main_out.append({'iso':country, 'kickoff':kick_dict,'participatingEntitites':part_dict,'planRisks':risk_dict\n",
      "C:\\Users\\Martin\\AppData\\Local\\Temp\\ipykernel_27772\\997083051.py:44: FutureWarning: The frame.append method is deprecated and will be removed from pandas in a future version. Use pandas.concat instead.\n",
      "  df_main_out = df_main_out.append({'iso':country, 'kickoff':kick_dict,'participatingEntitites':part_dict,'planRisks':risk_dict\n",
      "C:\\Users\\Martin\\AppData\\Local\\Temp\\ipykernel_27772\\997083051.py:44: FutureWarning: The frame.append method is deprecated and will be removed from pandas in a future version. Use pandas.concat instead.\n",
      "  df_main_out = df_main_out.append({'iso':country, 'kickoff':kick_dict,'participatingEntitites':part_dict,'planRisks':risk_dict\n",
      "C:\\Users\\Martin\\AppData\\Local\\Temp\\ipykernel_27772\\997083051.py:44: FutureWarning: The frame.append method is deprecated and will be removed from pandas in a future version. Use pandas.concat instead.\n",
      "  df_main_out = df_main_out.append({'iso':country, 'kickoff':kick_dict,'participatingEntitites':part_dict,'planRisks':risk_dict\n",
      "C:\\Users\\Martin\\AppData\\Local\\Temp\\ipykernel_27772\\997083051.py:44: FutureWarning: The frame.append method is deprecated and will be removed from pandas in a future version. Use pandas.concat instead.\n",
      "  df_main_out = df_main_out.append({'iso':country, 'kickoff':kick_dict,'participatingEntitites':part_dict,'planRisks':risk_dict\n",
      "C:\\Users\\Martin\\AppData\\Local\\Temp\\ipykernel_27772\\997083051.py:44: FutureWarning: The frame.append method is deprecated and will be removed from pandas in a future version. Use pandas.concat instead.\n",
      "  df_main_out = df_main_out.append({'iso':country, 'kickoff':kick_dict,'participatingEntitites':part_dict,'planRisks':risk_dict\n",
      "C:\\Users\\Martin\\AppData\\Local\\Temp\\ipykernel_27772\\997083051.py:44: FutureWarning: The frame.append method is deprecated and will be removed from pandas in a future version. Use pandas.concat instead.\n",
      "  df_main_out = df_main_out.append({'iso':country, 'kickoff':kick_dict,'participatingEntitites':part_dict,'planRisks':risk_dict\n"
     ]
    },
    {
     "name": "stderr",
     "output_type": "stream",
     "text": [
      "C:\\Users\\Martin\\AppData\\Local\\Temp\\ipykernel_27772\\997083051.py:44: FutureWarning: The frame.append method is deprecated and will be removed from pandas in a future version. Use pandas.concat instead.\n",
      "  df_main_out = df_main_out.append({'iso':country, 'kickoff':kick_dict,'participatingEntitites':part_dict,'planRisks':risk_dict\n",
      "C:\\Users\\Martin\\AppData\\Local\\Temp\\ipykernel_27772\\997083051.py:44: FutureWarning: The frame.append method is deprecated and will be removed from pandas in a future version. Use pandas.concat instead.\n",
      "  df_main_out = df_main_out.append({'iso':country, 'kickoff':kick_dict,'participatingEntitites':part_dict,'planRisks':risk_dict\n",
      "C:\\Users\\Martin\\AppData\\Local\\Temp\\ipykernel_27772\\997083051.py:44: FutureWarning: The frame.append method is deprecated and will be removed from pandas in a future version. Use pandas.concat instead.\n",
      "  df_main_out = df_main_out.append({'iso':country, 'kickoff':kick_dict,'participatingEntitites':part_dict,'planRisks':risk_dict\n",
      "C:\\Users\\Martin\\AppData\\Local\\Temp\\ipykernel_27772\\997083051.py:44: FutureWarning: The frame.append method is deprecated and will be removed from pandas in a future version. Use pandas.concat instead.\n",
      "  df_main_out = df_main_out.append({'iso':country, 'kickoff':kick_dict,'participatingEntitites':part_dict,'planRisks':risk_dict\n",
      "C:\\Users\\Martin\\AppData\\Local\\Temp\\ipykernel_27772\\997083051.py:44: FutureWarning: The frame.append method is deprecated and will be removed from pandas in a future version. Use pandas.concat instead.\n",
      "  df_main_out = df_main_out.append({'iso':country, 'kickoff':kick_dict,'participatingEntitites':part_dict,'planRisks':risk_dict\n",
      "C:\\Users\\Martin\\AppData\\Local\\Temp\\ipykernel_27772\\997083051.py:44: FutureWarning: The frame.append method is deprecated and will be removed from pandas in a future version. Use pandas.concat instead.\n",
      "  df_main_out = df_main_out.append({'iso':country, 'kickoff':kick_dict,'participatingEntitites':part_dict,'planRisks':risk_dict\n",
      "C:\\Users\\Martin\\AppData\\Local\\Temp\\ipykernel_27772\\997083051.py:44: FutureWarning: The frame.append method is deprecated and will be removed from pandas in a future version. Use pandas.concat instead.\n",
      "  df_main_out = df_main_out.append({'iso':country, 'kickoff':kick_dict,'participatingEntitites':part_dict,'planRisks':risk_dict\n",
      "C:\\Users\\Martin\\AppData\\Local\\Temp\\ipykernel_27772\\997083051.py:44: FutureWarning: The frame.append method is deprecated and will be removed from pandas in a future version. Use pandas.concat instead.\n",
      "  df_main_out = df_main_out.append({'iso':country, 'kickoff':kick_dict,'participatingEntitites':part_dict,'planRisks':risk_dict\n",
      "C:\\Users\\Martin\\AppData\\Local\\Temp\\ipykernel_27772\\997083051.py:44: FutureWarning: The frame.append method is deprecated and will be removed from pandas in a future version. Use pandas.concat instead.\n",
      "  df_main_out = df_main_out.append({'iso':country, 'kickoff':kick_dict,'participatingEntitites':part_dict,'planRisks':risk_dict\n",
      "C:\\Users\\Martin\\AppData\\Local\\Temp\\ipykernel_27772\\997083051.py:44: FutureWarning: The frame.append method is deprecated and will be removed from pandas in a future version. Use pandas.concat instead.\n",
      "  df_main_out = df_main_out.append({'iso':country, 'kickoff':kick_dict,'participatingEntitites':part_dict,'planRisks':risk_dict\n",
      "C:\\Users\\Martin\\AppData\\Local\\Temp\\ipykernel_27772\\997083051.py:44: FutureWarning: The frame.append method is deprecated and will be removed from pandas in a future version. Use pandas.concat instead.\n",
      "  df_main_out = df_main_out.append({'iso':country, 'kickoff':kick_dict,'participatingEntitites':part_dict,'planRisks':risk_dict\n",
      "C:\\Users\\Martin\\AppData\\Local\\Temp\\ipykernel_27772\\997083051.py:44: FutureWarning: The frame.append method is deprecated and will be removed from pandas in a future version. Use pandas.concat instead.\n",
      "  df_main_out = df_main_out.append({'iso':country, 'kickoff':kick_dict,'participatingEntitites':part_dict,'planRisks':risk_dict\n",
      "C:\\Users\\Martin\\AppData\\Local\\Temp\\ipykernel_27772\\997083051.py:44: FutureWarning: The frame.append method is deprecated and will be removed from pandas in a future version. Use pandas.concat instead.\n",
      "  df_main_out = df_main_out.append({'iso':country, 'kickoff':kick_dict,'participatingEntitites':part_dict,'planRisks':risk_dict\n",
      "C:\\Users\\Martin\\AppData\\Local\\Temp\\ipykernel_27772\\997083051.py:44: FutureWarning: The frame.append method is deprecated and will be removed from pandas in a future version. Use pandas.concat instead.\n",
      "  df_main_out = df_main_out.append({'iso':country, 'kickoff':kick_dict,'participatingEntitites':part_dict,'planRisks':risk_dict\n",
      "C:\\Users\\Martin\\AppData\\Local\\Temp\\ipykernel_27772\\997083051.py:44: FutureWarning: The frame.append method is deprecated and will be removed from pandas in a future version. Use pandas.concat instead.\n",
      "  df_main_out = df_main_out.append({'iso':country, 'kickoff':kick_dict,'participatingEntitites':part_dict,'planRisks':risk_dict\n",
      "C:\\Users\\Martin\\AppData\\Local\\Temp\\ipykernel_27772\\997083051.py:44: FutureWarning: The frame.append method is deprecated and will be removed from pandas in a future version. Use pandas.concat instead.\n",
      "  df_main_out = df_main_out.append({'iso':country, 'kickoff':kick_dict,'participatingEntitites':part_dict,'planRisks':risk_dict\n",
      "C:\\Users\\Martin\\AppData\\Local\\Temp\\ipykernel_27772\\997083051.py:44: FutureWarning: The frame.append method is deprecated and will be removed from pandas in a future version. Use pandas.concat instead.\n",
      "  df_main_out = df_main_out.append({'iso':country, 'kickoff':kick_dict,'participatingEntitites':part_dict,'planRisks':risk_dict\n",
      "C:\\Users\\Martin\\AppData\\Local\\Temp\\ipykernel_27772\\997083051.py:44: FutureWarning: The frame.append method is deprecated and will be removed from pandas in a future version. Use pandas.concat instead.\n",
      "  df_main_out = df_main_out.append({'iso':country, 'kickoff':kick_dict,'participatingEntitites':part_dict,'planRisks':risk_dict\n",
      "C:\\Users\\Martin\\AppData\\Local\\Temp\\ipykernel_27772\\997083051.py:44: FutureWarning: The frame.append method is deprecated and will be removed from pandas in a future version. Use pandas.concat instead.\n",
      "  df_main_out = df_main_out.append({'iso':country, 'kickoff':kick_dict,'participatingEntitites':part_dict,'planRisks':risk_dict\n",
      "C:\\Users\\Martin\\AppData\\Local\\Temp\\ipykernel_27772\\997083051.py:44: FutureWarning: The frame.append method is deprecated and will be removed from pandas in a future version. Use pandas.concat instead.\n",
      "  df_main_out = df_main_out.append({'iso':country, 'kickoff':kick_dict,'participatingEntitites':part_dict,'planRisks':risk_dict\n",
      "C:\\Users\\Martin\\AppData\\Local\\Temp\\ipykernel_27772\\997083051.py:44: FutureWarning: The frame.append method is deprecated and will be removed from pandas in a future version. Use pandas.concat instead.\n",
      "  df_main_out = df_main_out.append({'iso':country, 'kickoff':kick_dict,'participatingEntitites':part_dict,'planRisks':risk_dict\n",
      "C:\\Users\\Martin\\AppData\\Local\\Temp\\ipykernel_27772\\997083051.py:44: FutureWarning: The frame.append method is deprecated and will be removed from pandas in a future version. Use pandas.concat instead.\n",
      "  df_main_out = df_main_out.append({'iso':country, 'kickoff':kick_dict,'participatingEntitites':part_dict,'planRisks':risk_dict\n",
      "C:\\Users\\Martin\\AppData\\Local\\Temp\\ipykernel_27772\\997083051.py:44: FutureWarning: The frame.append method is deprecated and will be removed from pandas in a future version. Use pandas.concat instead.\n",
      "  df_main_out = df_main_out.append({'iso':country, 'kickoff':kick_dict,'participatingEntitites':part_dict,'planRisks':risk_dict\n",
      "C:\\Users\\Martin\\AppData\\Local\\Temp\\ipykernel_27772\\997083051.py:44: FutureWarning: The frame.append method is deprecated and will be removed from pandas in a future version. Use pandas.concat instead.\n",
      "  df_main_out = df_main_out.append({'iso':country, 'kickoff':kick_dict,'participatingEntitites':part_dict,'planRisks':risk_dict\n",
      "C:\\Users\\Martin\\AppData\\Local\\Temp\\ipykernel_27772\\997083051.py:44: FutureWarning: The frame.append method is deprecated and will be removed from pandas in a future version. Use pandas.concat instead.\n",
      "  df_main_out = df_main_out.append({'iso':country, 'kickoff':kick_dict,'participatingEntitites':part_dict,'planRisks':risk_dict\n",
      "C:\\Users\\Martin\\AppData\\Local\\Temp\\ipykernel_27772\\997083051.py:44: FutureWarning: The frame.append method is deprecated and will be removed from pandas in a future version. Use pandas.concat instead.\n",
      "  df_main_out = df_main_out.append({'iso':country, 'kickoff':kick_dict,'participatingEntitites':part_dict,'planRisks':risk_dict\n",
      "C:\\Users\\Martin\\AppData\\Local\\Temp\\ipykernel_27772\\997083051.py:44: FutureWarning: The frame.append method is deprecated and will be removed from pandas in a future version. Use pandas.concat instead.\n",
      "  df_main_out = df_main_out.append({'iso':country, 'kickoff':kick_dict,'participatingEntitites':part_dict,'planRisks':risk_dict\n"
     ]
    },
    {
     "name": "stderr",
     "output_type": "stream",
     "text": [
      "C:\\Users\\Martin\\AppData\\Local\\Temp\\ipykernel_27772\\997083051.py:44: FutureWarning: The frame.append method is deprecated and will be removed from pandas in a future version. Use pandas.concat instead.\n",
      "  df_main_out = df_main_out.append({'iso':country, 'kickoff':kick_dict,'participatingEntitites':part_dict,'planRisks':risk_dict\n",
      "C:\\Users\\Martin\\AppData\\Local\\Temp\\ipykernel_27772\\997083051.py:44: FutureWarning: The frame.append method is deprecated and will be removed from pandas in a future version. Use pandas.concat instead.\n",
      "  df_main_out = df_main_out.append({'iso':country, 'kickoff':kick_dict,'participatingEntitites':part_dict,'planRisks':risk_dict\n",
      "C:\\Users\\Martin\\AppData\\Local\\Temp\\ipykernel_27772\\997083051.py:44: FutureWarning: The frame.append method is deprecated and will be removed from pandas in a future version. Use pandas.concat instead.\n",
      "  df_main_out = df_main_out.append({'iso':country, 'kickoff':kick_dict,'participatingEntitites':part_dict,'planRisks':risk_dict\n",
      "C:\\Users\\Martin\\AppData\\Local\\Temp\\ipykernel_27772\\997083051.py:44: FutureWarning: The frame.append method is deprecated and will be removed from pandas in a future version. Use pandas.concat instead.\n",
      "  df_main_out = df_main_out.append({'iso':country, 'kickoff':kick_dict,'participatingEntitites':part_dict,'planRisks':risk_dict\n",
      "C:\\Users\\Martin\\AppData\\Local\\Temp\\ipykernel_27772\\997083051.py:44: FutureWarning: The frame.append method is deprecated and will be removed from pandas in a future version. Use pandas.concat instead.\n",
      "  df_main_out = df_main_out.append({'iso':country, 'kickoff':kick_dict,'participatingEntitites':part_dict,'planRisks':risk_dict\n",
      "C:\\Users\\Martin\\AppData\\Local\\Temp\\ipykernel_27772\\997083051.py:44: FutureWarning: The frame.append method is deprecated and will be removed from pandas in a future version. Use pandas.concat instead.\n",
      "  df_main_out = df_main_out.append({'iso':country, 'kickoff':kick_dict,'participatingEntitites':part_dict,'planRisks':risk_dict\n",
      "C:\\Users\\Martin\\AppData\\Local\\Temp\\ipykernel_27772\\997083051.py:44: FutureWarning: The frame.append method is deprecated and will be removed from pandas in a future version. Use pandas.concat instead.\n",
      "  df_main_out = df_main_out.append({'iso':country, 'kickoff':kick_dict,'participatingEntitites':part_dict,'planRisks':risk_dict\n",
      "C:\\Users\\Martin\\AppData\\Local\\Temp\\ipykernel_27772\\997083051.py:44: FutureWarning: The frame.append method is deprecated and will be removed from pandas in a future version. Use pandas.concat instead.\n",
      "  df_main_out = df_main_out.append({'iso':country, 'kickoff':kick_dict,'participatingEntitites':part_dict,'planRisks':risk_dict\n",
      "C:\\Users\\Martin\\AppData\\Local\\Temp\\ipykernel_27772\\997083051.py:44: FutureWarning: The frame.append method is deprecated and will be removed from pandas in a future version. Use pandas.concat instead.\n",
      "  df_main_out = df_main_out.append({'iso':country, 'kickoff':kick_dict,'participatingEntitites':part_dict,'planRisks':risk_dict\n",
      "C:\\Users\\Martin\\AppData\\Local\\Temp\\ipykernel_27772\\997083051.py:44: FutureWarning: The frame.append method is deprecated and will be removed from pandas in a future version. Use pandas.concat instead.\n",
      "  df_main_out = df_main_out.append({'iso':country, 'kickoff':kick_dict,'participatingEntitites':part_dict,'planRisks':risk_dict\n",
      "C:\\Users\\Martin\\AppData\\Local\\Temp\\ipykernel_27772\\997083051.py:44: FutureWarning: The frame.append method is deprecated and will be removed from pandas in a future version. Use pandas.concat instead.\n",
      "  df_main_out = df_main_out.append({'iso':country, 'kickoff':kick_dict,'participatingEntitites':part_dict,'planRisks':risk_dict\n",
      "C:\\Users\\Martin\\AppData\\Local\\Temp\\ipykernel_27772\\997083051.py:44: FutureWarning: The frame.append method is deprecated and will be removed from pandas in a future version. Use pandas.concat instead.\n",
      "  df_main_out = df_main_out.append({'iso':country, 'kickoff':kick_dict,'participatingEntitites':part_dict,'planRisks':risk_dict\n",
      "C:\\Users\\Martin\\AppData\\Local\\Temp\\ipykernel_27772\\997083051.py:44: FutureWarning: The frame.append method is deprecated and will be removed from pandas in a future version. Use pandas.concat instead.\n",
      "  df_main_out = df_main_out.append({'iso':country, 'kickoff':kick_dict,'participatingEntitites':part_dict,'planRisks':risk_dict\n",
      "C:\\Users\\Martin\\AppData\\Local\\Temp\\ipykernel_27772\\997083051.py:44: FutureWarning: The frame.append method is deprecated and will be removed from pandas in a future version. Use pandas.concat instead.\n",
      "  df_main_out = df_main_out.append({'iso':country, 'kickoff':kick_dict,'participatingEntitites':part_dict,'planRisks':risk_dict\n",
      "C:\\Users\\Martin\\AppData\\Local\\Temp\\ipykernel_27772\\997083051.py:44: FutureWarning: The frame.append method is deprecated and will be removed from pandas in a future version. Use pandas.concat instead.\n",
      "  df_main_out = df_main_out.append({'iso':country, 'kickoff':kick_dict,'participatingEntitites':part_dict,'planRisks':risk_dict\n",
      "C:\\Users\\Martin\\AppData\\Local\\Temp\\ipykernel_27772\\997083051.py:44: FutureWarning: The frame.append method is deprecated and will be removed from pandas in a future version. Use pandas.concat instead.\n",
      "  df_main_out = df_main_out.append({'iso':country, 'kickoff':kick_dict,'participatingEntitites':part_dict,'planRisks':risk_dict\n",
      "C:\\Users\\Martin\\AppData\\Local\\Temp\\ipykernel_27772\\997083051.py:44: FutureWarning: The frame.append method is deprecated and will be removed from pandas in a future version. Use pandas.concat instead.\n",
      "  df_main_out = df_main_out.append({'iso':country, 'kickoff':kick_dict,'participatingEntitites':part_dict,'planRisks':risk_dict\n",
      "C:\\Users\\Martin\\AppData\\Local\\Temp\\ipykernel_27772\\997083051.py:44: FutureWarning: The frame.append method is deprecated and will be removed from pandas in a future version. Use pandas.concat instead.\n",
      "  df_main_out = df_main_out.append({'iso':country, 'kickoff':kick_dict,'participatingEntitites':part_dict,'planRisks':risk_dict\n",
      "C:\\Users\\Martin\\AppData\\Local\\Temp\\ipykernel_27772\\997083051.py:44: FutureWarning: The frame.append method is deprecated and will be removed from pandas in a future version. Use pandas.concat instead.\n",
      "  df_main_out = df_main_out.append({'iso':country, 'kickoff':kick_dict,'participatingEntitites':part_dict,'planRisks':risk_dict\n",
      "C:\\Users\\Martin\\AppData\\Local\\Temp\\ipykernel_27772\\997083051.py:44: FutureWarning: The frame.append method is deprecated and will be removed from pandas in a future version. Use pandas.concat instead.\n",
      "  df_main_out = df_main_out.append({'iso':country, 'kickoff':kick_dict,'participatingEntitites':part_dict,'planRisks':risk_dict\n",
      "C:\\Users\\Martin\\AppData\\Local\\Temp\\ipykernel_27772\\997083051.py:44: FutureWarning: The frame.append method is deprecated and will be removed from pandas in a future version. Use pandas.concat instead.\n",
      "  df_main_out = df_main_out.append({'iso':country, 'kickoff':kick_dict,'participatingEntitites':part_dict,'planRisks':risk_dict\n",
      "C:\\Users\\Martin\\AppData\\Local\\Temp\\ipykernel_27772\\997083051.py:44: FutureWarning: The frame.append method is deprecated and will be removed from pandas in a future version. Use pandas.concat instead.\n",
      "  df_main_out = df_main_out.append({'iso':country, 'kickoff':kick_dict,'participatingEntitites':part_dict,'planRisks':risk_dict\n",
      "C:\\Users\\Martin\\AppData\\Local\\Temp\\ipykernel_27772\\997083051.py:44: FutureWarning: The frame.append method is deprecated and will be removed from pandas in a future version. Use pandas.concat instead.\n",
      "  df_main_out = df_main_out.append({'iso':country, 'kickoff':kick_dict,'participatingEntitites':part_dict,'planRisks':risk_dict\n",
      "C:\\Users\\Martin\\AppData\\Local\\Temp\\ipykernel_27772\\997083051.py:44: FutureWarning: The frame.append method is deprecated and will be removed from pandas in a future version. Use pandas.concat instead.\n",
      "  df_main_out = df_main_out.append({'iso':country, 'kickoff':kick_dict,'participatingEntitites':part_dict,'planRisks':risk_dict\n",
      "C:\\Users\\Martin\\AppData\\Local\\Temp\\ipykernel_27772\\997083051.py:44: FutureWarning: The frame.append method is deprecated and will be removed from pandas in a future version. Use pandas.concat instead.\n",
      "  df_main_out = df_main_out.append({'iso':country, 'kickoff':kick_dict,'participatingEntitites':part_dict,'planRisks':risk_dict\n",
      "C:\\Users\\Martin\\AppData\\Local\\Temp\\ipykernel_27772\\997083051.py:44: FutureWarning: The frame.append method is deprecated and will be removed from pandas in a future version. Use pandas.concat instead.\n",
      "  df_main_out = df_main_out.append({'iso':country, 'kickoff':kick_dict,'participatingEntitites':part_dict,'planRisks':risk_dict\n"
     ]
    },
    {
     "name": "stderr",
     "output_type": "stream",
     "text": [
      "C:\\Users\\Martin\\AppData\\Local\\Temp\\ipykernel_27772\\997083051.py:44: FutureWarning: The frame.append method is deprecated and will be removed from pandas in a future version. Use pandas.concat instead.\n",
      "  df_main_out = df_main_out.append({'iso':country, 'kickoff':kick_dict,'participatingEntitites':part_dict,'planRisks':risk_dict\n",
      "C:\\Users\\Martin\\AppData\\Local\\Temp\\ipykernel_27772\\997083051.py:44: FutureWarning: The frame.append method is deprecated and will be removed from pandas in a future version. Use pandas.concat instead.\n",
      "  df_main_out = df_main_out.append({'iso':country, 'kickoff':kick_dict,'participatingEntitites':part_dict,'planRisks':risk_dict\n",
      "C:\\Users\\Martin\\AppData\\Local\\Temp\\ipykernel_27772\\997083051.py:44: FutureWarning: The frame.append method is deprecated and will be removed from pandas in a future version. Use pandas.concat instead.\n",
      "  df_main_out = df_main_out.append({'iso':country, 'kickoff':kick_dict,'participatingEntitites':part_dict,'planRisks':risk_dict\n",
      "C:\\Users\\Martin\\AppData\\Local\\Temp\\ipykernel_27772\\997083051.py:44: FutureWarning: The frame.append method is deprecated and will be removed from pandas in a future version. Use pandas.concat instead.\n",
      "  df_main_out = df_main_out.append({'iso':country, 'kickoff':kick_dict,'participatingEntitites':part_dict,'planRisks':risk_dict\n",
      "C:\\Users\\Martin\\AppData\\Local\\Temp\\ipykernel_27772\\997083051.py:44: FutureWarning: The frame.append method is deprecated and will be removed from pandas in a future version. Use pandas.concat instead.\n",
      "  df_main_out = df_main_out.append({'iso':country, 'kickoff':kick_dict,'participatingEntitites':part_dict,'planRisks':risk_dict\n",
      "C:\\Users\\Martin\\AppData\\Local\\Temp\\ipykernel_27772\\997083051.py:44: FutureWarning: The frame.append method is deprecated and will be removed from pandas in a future version. Use pandas.concat instead.\n",
      "  df_main_out = df_main_out.append({'iso':country, 'kickoff':kick_dict,'participatingEntitites':part_dict,'planRisks':risk_dict\n",
      "C:\\Users\\Martin\\AppData\\Local\\Temp\\ipykernel_27772\\997083051.py:44: FutureWarning: The frame.append method is deprecated and will be removed from pandas in a future version. Use pandas.concat instead.\n",
      "  df_main_out = df_main_out.append({'iso':country, 'kickoff':kick_dict,'participatingEntitites':part_dict,'planRisks':risk_dict\n",
      "C:\\Users\\Martin\\AppData\\Local\\Temp\\ipykernel_27772\\997083051.py:44: FutureWarning: The frame.append method is deprecated and will be removed from pandas in a future version. Use pandas.concat instead.\n",
      "  df_main_out = df_main_out.append({'iso':country, 'kickoff':kick_dict,'participatingEntitites':part_dict,'planRisks':risk_dict\n",
      "C:\\Users\\Martin\\AppData\\Local\\Temp\\ipykernel_27772\\997083051.py:44: FutureWarning: The frame.append method is deprecated and will be removed from pandas in a future version. Use pandas.concat instead.\n",
      "  df_main_out = df_main_out.append({'iso':country, 'kickoff':kick_dict,'participatingEntitites':part_dict,'planRisks':risk_dict\n",
      "C:\\Users\\Martin\\AppData\\Local\\Temp\\ipykernel_27772\\997083051.py:44: FutureWarning: The frame.append method is deprecated and will be removed from pandas in a future version. Use pandas.concat instead.\n",
      "  df_main_out = df_main_out.append({'iso':country, 'kickoff':kick_dict,'participatingEntitites':part_dict,'planRisks':risk_dict\n",
      "C:\\Users\\Martin\\AppData\\Local\\Temp\\ipykernel_27772\\997083051.py:44: FutureWarning: The frame.append method is deprecated and will be removed from pandas in a future version. Use pandas.concat instead.\n",
      "  df_main_out = df_main_out.append({'iso':country, 'kickoff':kick_dict,'participatingEntitites':part_dict,'planRisks':risk_dict\n",
      "C:\\Users\\Martin\\AppData\\Local\\Temp\\ipykernel_27772\\997083051.py:44: FutureWarning: The frame.append method is deprecated and will be removed from pandas in a future version. Use pandas.concat instead.\n",
      "  df_main_out = df_main_out.append({'iso':country, 'kickoff':kick_dict,'participatingEntitites':part_dict,'planRisks':risk_dict\n",
      "C:\\Users\\Martin\\AppData\\Local\\Temp\\ipykernel_27772\\997083051.py:44: FutureWarning: The frame.append method is deprecated and will be removed from pandas in a future version. Use pandas.concat instead.\n",
      "  df_main_out = df_main_out.append({'iso':country, 'kickoff':kick_dict,'participatingEntitites':part_dict,'planRisks':risk_dict\n",
      "C:\\Users\\Martin\\AppData\\Local\\Temp\\ipykernel_27772\\997083051.py:44: FutureWarning: The frame.append method is deprecated and will be removed from pandas in a future version. Use pandas.concat instead.\n",
      "  df_main_out = df_main_out.append({'iso':country, 'kickoff':kick_dict,'participatingEntitites':part_dict,'planRisks':risk_dict\n",
      "C:\\Users\\Martin\\AppData\\Local\\Temp\\ipykernel_27772\\997083051.py:44: FutureWarning: The frame.append method is deprecated and will be removed from pandas in a future version. Use pandas.concat instead.\n",
      "  df_main_out = df_main_out.append({'iso':country, 'kickoff':kick_dict,'participatingEntitites':part_dict,'planRisks':risk_dict\n",
      "C:\\Users\\Martin\\AppData\\Local\\Temp\\ipykernel_27772\\997083051.py:44: FutureWarning: The frame.append method is deprecated and will be removed from pandas in a future version. Use pandas.concat instead.\n",
      "  df_main_out = df_main_out.append({'iso':country, 'kickoff':kick_dict,'participatingEntitites':part_dict,'planRisks':risk_dict\n",
      "C:\\Users\\Martin\\AppData\\Local\\Temp\\ipykernel_27772\\997083051.py:44: FutureWarning: The frame.append method is deprecated and will be removed from pandas in a future version. Use pandas.concat instead.\n",
      "  df_main_out = df_main_out.append({'iso':country, 'kickoff':kick_dict,'participatingEntitites':part_dict,'planRisks':risk_dict\n",
      "C:\\Users\\Martin\\AppData\\Local\\Temp\\ipykernel_27772\\997083051.py:44: FutureWarning: The frame.append method is deprecated and will be removed from pandas in a future version. Use pandas.concat instead.\n",
      "  df_main_out = df_main_out.append({'iso':country, 'kickoff':kick_dict,'participatingEntitites':part_dict,'planRisks':risk_dict\n",
      "C:\\Users\\Martin\\AppData\\Local\\Temp\\ipykernel_27772\\997083051.py:44: FutureWarning: The frame.append method is deprecated and will be removed from pandas in a future version. Use pandas.concat instead.\n",
      "  df_main_out = df_main_out.append({'iso':country, 'kickoff':kick_dict,'participatingEntitites':part_dict,'planRisks':risk_dict\n",
      "C:\\Users\\Martin\\AppData\\Local\\Temp\\ipykernel_27772\\997083051.py:44: FutureWarning: The frame.append method is deprecated and will be removed from pandas in a future version. Use pandas.concat instead.\n",
      "  df_main_out = df_main_out.append({'iso':country, 'kickoff':kick_dict,'participatingEntitites':part_dict,'planRisks':risk_dict\n",
      "C:\\Users\\Martin\\AppData\\Local\\Temp\\ipykernel_27772\\997083051.py:44: FutureWarning: The frame.append method is deprecated and will be removed from pandas in a future version. Use pandas.concat instead.\n",
      "  df_main_out = df_main_out.append({'iso':country, 'kickoff':kick_dict,'participatingEntitites':part_dict,'planRisks':risk_dict\n",
      "C:\\Users\\Martin\\AppData\\Local\\Temp\\ipykernel_27772\\997083051.py:44: FutureWarning: The frame.append method is deprecated and will be removed from pandas in a future version. Use pandas.concat instead.\n",
      "  df_main_out = df_main_out.append({'iso':country, 'kickoff':kick_dict,'participatingEntitites':part_dict,'planRisks':risk_dict\n",
      "C:\\Users\\Martin\\AppData\\Local\\Temp\\ipykernel_27772\\997083051.py:44: FutureWarning: The frame.append method is deprecated and will be removed from pandas in a future version. Use pandas.concat instead.\n",
      "  df_main_out = df_main_out.append({'iso':country, 'kickoff':kick_dict,'participatingEntitites':part_dict,'planRisks':risk_dict\n",
      "C:\\Users\\Martin\\AppData\\Local\\Temp\\ipykernel_27772\\997083051.py:44: FutureWarning: The frame.append method is deprecated and will be removed from pandas in a future version. Use pandas.concat instead.\n",
      "  df_main_out = df_main_out.append({'iso':country, 'kickoff':kick_dict,'participatingEntitites':part_dict,'planRisks':risk_dict\n",
      "C:\\Users\\Martin\\AppData\\Local\\Temp\\ipykernel_27772\\997083051.py:44: FutureWarning: The frame.append method is deprecated and will be removed from pandas in a future version. Use pandas.concat instead.\n",
      "  df_main_out = df_main_out.append({'iso':country, 'kickoff':kick_dict,'participatingEntitites':part_dict,'planRisks':risk_dict\n",
      "C:\\Users\\Martin\\AppData\\Local\\Temp\\ipykernel_27772\\997083051.py:44: FutureWarning: The frame.append method is deprecated and will be removed from pandas in a future version. Use pandas.concat instead.\n",
      "  df_main_out = df_main_out.append({'iso':country, 'kickoff':kick_dict,'participatingEntitites':part_dict,'planRisks':risk_dict\n",
      "C:\\Users\\Martin\\AppData\\Local\\Temp\\ipykernel_27772\\997083051.py:44: FutureWarning: The frame.append method is deprecated and will be removed from pandas in a future version. Use pandas.concat instead.\n",
      "  df_main_out = df_main_out.append({'iso':country, 'kickoff':kick_dict,'participatingEntitites':part_dict,'planRisks':risk_dict\n"
     ]
    },
    {
     "name": "stderr",
     "output_type": "stream",
     "text": [
      "C:\\Users\\Martin\\AppData\\Local\\Temp\\ipykernel_27772\\997083051.py:44: FutureWarning: The frame.append method is deprecated and will be removed from pandas in a future version. Use pandas.concat instead.\n",
      "  df_main_out = df_main_out.append({'iso':country, 'kickoff':kick_dict,'participatingEntitites':part_dict,'planRisks':risk_dict\n",
      "C:\\Users\\Martin\\AppData\\Local\\Temp\\ipykernel_27772\\997083051.py:44: FutureWarning: The frame.append method is deprecated and will be removed from pandas in a future version. Use pandas.concat instead.\n",
      "  df_main_out = df_main_out.append({'iso':country, 'kickoff':kick_dict,'participatingEntitites':part_dict,'planRisks':risk_dict\n",
      "C:\\Users\\Martin\\AppData\\Local\\Temp\\ipykernel_27772\\997083051.py:44: FutureWarning: The frame.append method is deprecated and will be removed from pandas in a future version. Use pandas.concat instead.\n",
      "  df_main_out = df_main_out.append({'iso':country, 'kickoff':kick_dict,'participatingEntitites':part_dict,'planRisks':risk_dict\n",
      "C:\\Users\\Martin\\AppData\\Local\\Temp\\ipykernel_27772\\997083051.py:44: FutureWarning: The frame.append method is deprecated and will be removed from pandas in a future version. Use pandas.concat instead.\n",
      "  df_main_out = df_main_out.append({'iso':country, 'kickoff':kick_dict,'participatingEntitites':part_dict,'planRisks':risk_dict\n",
      "C:\\Users\\Martin\\AppData\\Local\\Temp\\ipykernel_27772\\997083051.py:44: FutureWarning: The frame.append method is deprecated and will be removed from pandas in a future version. Use pandas.concat instead.\n",
      "  df_main_out = df_main_out.append({'iso':country, 'kickoff':kick_dict,'participatingEntitites':part_dict,'planRisks':risk_dict\n",
      "C:\\Users\\Martin\\AppData\\Local\\Temp\\ipykernel_27772\\997083051.py:44: FutureWarning: The frame.append method is deprecated and will be removed from pandas in a future version. Use pandas.concat instead.\n",
      "  df_main_out = df_main_out.append({'iso':country, 'kickoff':kick_dict,'participatingEntitites':part_dict,'planRisks':risk_dict\n",
      "C:\\Users\\Martin\\AppData\\Local\\Temp\\ipykernel_27772\\997083051.py:44: FutureWarning: The frame.append method is deprecated and will be removed from pandas in a future version. Use pandas.concat instead.\n",
      "  df_main_out = df_main_out.append({'iso':country, 'kickoff':kick_dict,'participatingEntitites':part_dict,'planRisks':risk_dict\n",
      "C:\\Users\\Martin\\AppData\\Local\\Temp\\ipykernel_27772\\997083051.py:44: FutureWarning: The frame.append method is deprecated and will be removed from pandas in a future version. Use pandas.concat instead.\n",
      "  df_main_out = df_main_out.append({'iso':country, 'kickoff':kick_dict,'participatingEntitites':part_dict,'planRisks':risk_dict\n",
      "C:\\Users\\Martin\\AppData\\Local\\Temp\\ipykernel_27772\\997083051.py:44: FutureWarning: The frame.append method is deprecated and will be removed from pandas in a future version. Use pandas.concat instead.\n",
      "  df_main_out = df_main_out.append({'iso':country, 'kickoff':kick_dict,'participatingEntitites':part_dict,'planRisks':risk_dict\n",
      "C:\\Users\\Martin\\AppData\\Local\\Temp\\ipykernel_27772\\997083051.py:44: FutureWarning: The frame.append method is deprecated and will be removed from pandas in a future version. Use pandas.concat instead.\n",
      "  df_main_out = df_main_out.append({'iso':country, 'kickoff':kick_dict,'participatingEntitites':part_dict,'planRisks':risk_dict\n",
      "C:\\Users\\Martin\\AppData\\Local\\Temp\\ipykernel_27772\\997083051.py:44: FutureWarning: The frame.append method is deprecated and will be removed from pandas in a future version. Use pandas.concat instead.\n",
      "  df_main_out = df_main_out.append({'iso':country, 'kickoff':kick_dict,'participatingEntitites':part_dict,'planRisks':risk_dict\n",
      "C:\\Users\\Martin\\AppData\\Local\\Temp\\ipykernel_27772\\997083051.py:44: FutureWarning: The frame.append method is deprecated and will be removed from pandas in a future version. Use pandas.concat instead.\n",
      "  df_main_out = df_main_out.append({'iso':country, 'kickoff':kick_dict,'participatingEntitites':part_dict,'planRisks':risk_dict\n",
      "C:\\Users\\Martin\\AppData\\Local\\Temp\\ipykernel_27772\\997083051.py:44: FutureWarning: The frame.append method is deprecated and will be removed from pandas in a future version. Use pandas.concat instead.\n",
      "  df_main_out = df_main_out.append({'iso':country, 'kickoff':kick_dict,'participatingEntitites':part_dict,'planRisks':risk_dict\n",
      "C:\\Users\\Martin\\AppData\\Local\\Temp\\ipykernel_27772\\997083051.py:44: FutureWarning: The frame.append method is deprecated and will be removed from pandas in a future version. Use pandas.concat instead.\n",
      "  df_main_out = df_main_out.append({'iso':country, 'kickoff':kick_dict,'participatingEntitites':part_dict,'planRisks':risk_dict\n",
      "C:\\Users\\Martin\\AppData\\Local\\Temp\\ipykernel_27772\\997083051.py:44: FutureWarning: The frame.append method is deprecated and will be removed from pandas in a future version. Use pandas.concat instead.\n",
      "  df_main_out = df_main_out.append({'iso':country, 'kickoff':kick_dict,'participatingEntitites':part_dict,'planRisks':risk_dict\n",
      "C:\\Users\\Martin\\AppData\\Local\\Temp\\ipykernel_27772\\997083051.py:44: FutureWarning: The frame.append method is deprecated and will be removed from pandas in a future version. Use pandas.concat instead.\n",
      "  df_main_out = df_main_out.append({'iso':country, 'kickoff':kick_dict,'participatingEntitites':part_dict,'planRisks':risk_dict\n",
      "C:\\Users\\Martin\\AppData\\Local\\Temp\\ipykernel_27772\\997083051.py:44: FutureWarning: The frame.append method is deprecated and will be removed from pandas in a future version. Use pandas.concat instead.\n",
      "  df_main_out = df_main_out.append({'iso':country, 'kickoff':kick_dict,'participatingEntitites':part_dict,'planRisks':risk_dict\n",
      "C:\\Users\\Martin\\AppData\\Local\\Temp\\ipykernel_27772\\997083051.py:44: FutureWarning: The frame.append method is deprecated and will be removed from pandas in a future version. Use pandas.concat instead.\n",
      "  df_main_out = df_main_out.append({'iso':country, 'kickoff':kick_dict,'participatingEntitites':part_dict,'planRisks':risk_dict\n",
      "C:\\Users\\Martin\\AppData\\Local\\Temp\\ipykernel_27772\\997083051.py:44: FutureWarning: The frame.append method is deprecated and will be removed from pandas in a future version. Use pandas.concat instead.\n",
      "  df_main_out = df_main_out.append({'iso':country, 'kickoff':kick_dict,'participatingEntitites':part_dict,'planRisks':risk_dict\n",
      "C:\\Users\\Martin\\AppData\\Local\\Temp\\ipykernel_27772\\997083051.py:44: FutureWarning: The frame.append method is deprecated and will be removed from pandas in a future version. Use pandas.concat instead.\n",
      "  df_main_out = df_main_out.append({'iso':country, 'kickoff':kick_dict,'participatingEntitites':part_dict,'planRisks':risk_dict\n",
      "C:\\Users\\Martin\\AppData\\Local\\Temp\\ipykernel_27772\\997083051.py:44: FutureWarning: The frame.append method is deprecated and will be removed from pandas in a future version. Use pandas.concat instead.\n",
      "  df_main_out = df_main_out.append({'iso':country, 'kickoff':kick_dict,'participatingEntitites':part_dict,'planRisks':risk_dict\n",
      "C:\\Users\\Martin\\AppData\\Local\\Temp\\ipykernel_27772\\997083051.py:44: FutureWarning: The frame.append method is deprecated and will be removed from pandas in a future version. Use pandas.concat instead.\n",
      "  df_main_out = df_main_out.append({'iso':country, 'kickoff':kick_dict,'participatingEntitites':part_dict,'planRisks':risk_dict\n",
      "C:\\Users\\Martin\\AppData\\Local\\Temp\\ipykernel_27772\\997083051.py:44: FutureWarning: The frame.append method is deprecated and will be removed from pandas in a future version. Use pandas.concat instead.\n",
      "  df_main_out = df_main_out.append({'iso':country, 'kickoff':kick_dict,'participatingEntitites':part_dict,'planRisks':risk_dict\n"
     ]
    }
   ],
   "source": [
    "df_kick = pd.read_csv(os.path.join(folder_in, kick_in), sep=';')\n",
    "df_part = pd.read_csv(os.path.join(folder_in, part_in), sep=';')\n",
    "df_risk = pd.read_csv(os.path.join(folder_in, risk_in), sep=';')\n",
    "\n",
    "from json import loads, dumps\n",
    "import json\n",
    "\n",
    "def filter(df, cols, countryISO3):\n",
    "    df_result = df[cols].copy() \n",
    "    df_result = df_result[df_result['iso']==countryISO3]\n",
    "    df_result = df_result.drop(columns=['iso'])\n",
    "    return df_result\n",
    "\n",
    "def get_list_unique_countries(df):\n",
    "    return df['iso'].unique().tolist()\n",
    "\n",
    "def output_json_file_by_country(df_kick, df_part, df_risk, country):\n",
    "    #country='AFG'\n",
    "    nb=1\n",
    "    kick_cols= ['iso', 'startDate', 'endDate','description']\n",
    "    #df_kick = df_kick[kick_cols].head(nb)\n",
    "    df_kick = filter(df_kick, kick_cols, country)\n",
    "    kick_str = df_kick.to_json(orient=\"records\")\n",
    "    kick_dict = loads(kick_str)[0]\n",
    "\n",
    "    #part_cols = ['organizationId', 'uninfo.organization.abbreviation', 'participating']\n",
    "\n",
    "    df_part = df_part.rename(columns={'uninfo.id':'organizationId'})\n",
    "    part_cols = ['iso', 'organizationId', 'participating']\n",
    "\n",
    "    df_part = filter(df_part, part_cols, country)\n",
    "    part_str = df_part.to_json(orient=\"records\")\n",
    "    part_dict = loads(part_str)\n",
    "\n",
    "\n",
    "    #risk_cols = ['type','description', 'comment', 'likelihood', 'impact', 'risktreatment', 'mitigationMeasure']\n",
    "    risk_cols = ['iso','type','description', 'comment', 'likelihood', 'impact', 'risktreatment', 'mitigationMeasure']\n",
    "    df_risk = df_risk[risk_cols]\n",
    "    df_risk = filter(df_risk, risk_cols, country)\n",
    "    risk_str = df_risk.to_json(orient=\"records\")\n",
    "    risk_dict = loads(risk_str)\n",
    "\n",
    "    df_main_out = pd.DataFrame()\n",
    "    df_main_out = df_main_out.append({'iso':country, 'kickoff':kick_dict,'participatingEntitites':part_dict,'planRisks':risk_dict\n",
    "                                     }, ignore_index=True)\n",
    "\n",
    "    df_main_out.to_json(os.path.join(folder_out, country+'_out.json'), orient='records')\n",
    "\n",
    "countries_list = get_list_unique_countries(df_risk)\n",
    "\n",
    "for country in countries_list:\n",
    "    output_json_file_by_country(df_kick, df_part, df_risk, country)"
   ]
  },
  {
   "cell_type": "code",
   "execution_count": null,
   "id": "0f5c55f3",
   "metadata": {
    "id": "0f5c55f3"
   },
   "outputs": [],
   "source": []
  },
  {
   "cell_type": "markdown",
   "id": "294097ce",
   "metadata": {
    "id": "294097ce"
   },
   "source": [
    "## ANNEXES"
   ]
  },
  {
   "cell_type": "code",
   "execution_count": null,
   "id": "0ef6a170",
   "metadata": {
    "colab": {
     "base_uri": "https://localhost:8080/"
    },
    "id": "0ef6a170",
    "outputId": "1c234a3b-c531-4589-a9bb-d1bd2fb3bb8d"
   },
   "outputs": [],
   "source": [
    "for parsed in parseds:\n",
    "    df_out = df_out.append({'kick-off':parsed}, ignore_index=True)\n",
    "\n",
    "for part_load in part_loads:\n",
    "    df_part_out = df_part_out.append({'participatingEntitites':part_load}, ignore_index=True)\n",
    "\n",
    "for risk_load in risk_loads:\n",
    "    df_risk_out = df_risk_out.append({'planRisks':risk_load}, ignore_index=True)\n",
    "\n",
    "for main_load in main_loads:\n",
    "    df_main_out = df_main_out.append({'kick-off':parsed,'participatingEntitites':part_load,'planRisks':risk_load}, ignore_index=True)\n",
    "\n"
   ]
  },
  {
   "cell_type": "code",
   "execution_count": null,
   "id": "67accf13",
   "metadata": {
    "id": "67accf13"
   },
   "outputs": [],
   "source": []
  },
  {
   "cell_type": "code",
   "execution_count": null,
   "id": "9785027b",
   "metadata": {
    "id": "9785027b"
   },
   "outputs": [],
   "source": []
  },
  {
   "cell_type": "code",
   "execution_count": null,
   "id": "9a5c6679",
   "metadata": {
    "id": "9a5c6679"
   },
   "outputs": [],
   "source": []
  }
 ],
 "metadata": {
  "colab": {
   "provenance": []
  },
  "kernelspec": {
   "display_name": "Python 3 (ipykernel)",
   "language": "python",
   "name": "python3"
  },
  "language_info": {
   "codemirror_mode": {
    "name": "ipython",
    "version": 3
   },
   "file_extension": ".py",
   "mimetype": "text/x-python",
   "name": "python",
   "nbconvert_exporter": "python",
   "pygments_lexer": "ipython3",
   "version": "3.11.4"
  }
 },
 "nbformat": 4,
 "nbformat_minor": 5
}
